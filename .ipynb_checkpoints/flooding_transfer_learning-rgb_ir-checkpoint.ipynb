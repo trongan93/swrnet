{
 "cells": [
  {
   "cell_type": "code",
   "execution_count": 1,
   "id": "early-science",
   "metadata": {},
   "outputs": [
    {
     "name": "stderr",
     "output_type": "stream",
     "text": [
      "/home/viplab/pt-gpu/lib/python3.10/site-packages/tqdm/auto.py:22: TqdmWarning: IProgress not found. Please update jupyter and ipywidgets. See https://ipywidgets.readthedocs.io/en/stable/user_install.html\n",
      "  from .autonotebook import tqdm as notebook_tqdm\n"
     ]
    }
   ],
   "source": [
    "import sys, os\n",
    "from pathlib import Path\n",
    "import torch\n",
    "os.environ[\"CUDA_DEVICE_ORDER\"]=\"PCI_BUS_ID\"\n",
    "os.environ[\"CUDA_VISIBLE_DEVICES\"]=\"0\""
   ]
  },
  {
   "cell_type": "markdown",
   "id": "adequate-history",
   "metadata": {},
   "source": [
    "## Load flooding configuration file from local device or gcs"
   ]
  },
  {
   "cell_type": "code",
   "execution_count": 2,
   "id": "toxic-watch",
   "metadata": {},
   "outputs": [
    {
     "name": "stdout",
     "output_type": "stream",
     "text": [
      "Loaded Config for experiment:  worldfloods_demo_test\n",
      "{   'data_params': {   'batch_size': 32,\n",
      "                       'bucket_id': 'ml4cc_data_lake',\n",
      "                       'channel_configuration': 'all',\n",
      "                       'download': {'test': True, 'train': True, 'val': True},\n",
      "                       'filter_windows': {   'apply': False,\n",
      "                                             'threshold_clouds': 0.5,\n",
      "                                             'version': 'v1'},\n",
      "                       'input_folder': 'S2',\n",
      "                       'loader_type': 'local',\n",
      "                       'num_workers': 4,\n",
      "                       'path_to_splits': 'worldfloods',\n",
      "                       'target_folder': 'gt',\n",
      "                       'test_transformation': {'normalize': True},\n",
      "                       'train_test_split_file': '2_PROD/2_Mart/worldfloods_v1_0/train_test_split.json',\n",
      "                       'train_transformation': {'normalize': True},\n",
      "                       'window_size': [256, 256]},\n",
      "    'experiment_name': 'worldfloods_demo_test',\n",
      "    'gpus': '0',\n",
      "    'model_params': {   'hyperparameters': {   'channel_configuration': 'all',\n",
      "                                               'early_stopping_patience': 4,\n",
      "                                               'label_names': [   'land',\n",
      "                                                                  'water',\n",
      "                                                                  'cloud'],\n",
      "                                               'lr': 0.0001,\n",
      "                                               'lr_decay': 0.5,\n",
      "                                               'lr_patience': 2,\n",
      "                                               'max_epochs': 10,\n",
      "                                               'max_tile_size': 256,\n",
      "                                               'metric_monitor': 'val_dice_loss',\n",
      "                                               'model_type': 'linear',\n",
      "                                               'num_channels': 13,\n",
      "                                               'num_classes': 3,\n",
      "                                               'val_every': 1,\n",
      "                                               'weight_per_class': [   1.93445299,\n",
      "                                                                       36.60054169,\n",
      "                                                                       2.19400729]},\n",
      "                        'model_folder': 'gs://ml4cc_data_lake/0_DEV/2_Mart/2_MLModelMart',\n",
      "                        'model_version': 'v1',\n",
      "                        'test': True,\n",
      "                        'train': True},\n",
      "    'resume_from_checkpoint': False,\n",
      "    'seed': 12}\n"
     ]
    },
    {
     "data": {
      "text/plain": [
       "{'experiment_name': 'worldfloods_demo_test',\n",
       " 'seed': 12,\n",
       " 'model_params': {'model_folder': 'gs://ml4cc_data_lake/0_DEV/2_Mart/2_MLModelMart',\n",
       "  'model_version': 'v1',\n",
       "  'hyperparameters': {'max_tile_size': 256,\n",
       "   'metric_monitor': 'val_dice_loss',\n",
       "   'channel_configuration': 'all',\n",
       "   'label_names': ['land', 'water', 'cloud'],\n",
       "   'weight_per_class': [1.93445299, 36.60054169, 2.19400729],\n",
       "   'model_type': 'linear',\n",
       "   'num_classes': 3,\n",
       "   'max_epochs': 10,\n",
       "   'val_every': 1,\n",
       "   'lr': 0.0001,\n",
       "   'lr_decay': 0.5,\n",
       "   'lr_patience': 2,\n",
       "   'early_stopping_patience': 4,\n",
       "   'num_channels': 13},\n",
       "  'train': True,\n",
       "  'test': True},\n",
       " 'data_params': {'loader_type': 'local',\n",
       "  'num_workers': 4,\n",
       "  'filter_windows': {'version': 'v1', 'threshold_clouds': 0.5, 'apply': False},\n",
       "  'download': {'train': True, 'val': True, 'test': True},\n",
       "  'bucket_id': 'ml4cc_data_lake',\n",
       "  'path_to_splits': 'worldfloods',\n",
       "  'train_test_split_file': '2_PROD/2_Mart/worldfloods_v1_0/train_test_split.json',\n",
       "  'input_folder': 'S2',\n",
       "  'target_folder': 'gt',\n",
       "  'batch_size': 32,\n",
       "  'window_size': [256, 256],\n",
       "  'channel_configuration': 'all',\n",
       "  'train_transformation': {'normalize': True},\n",
       "  'test_transformation': {'normalize': True}},\n",
       " 'resume_from_checkpoint': False,\n",
       " 'gpus': '0'}"
      ]
     },
     "execution_count": 2,
     "metadata": {},
     "output_type": "execute_result"
    }
   ],
   "source": [
    "from ml4floods.models.config_setup import get_default_config\n",
    "import pkg_resources\n",
    "\n",
    "# Set filepath to configuration files\n",
    "# config_fp = 'path/to/worldfloods_template.json'\n",
    "config_fp = pkg_resources.resource_filename(\"ml4floods\",\"models/configurations/worldfloods_template.json\")\n",
    "\n",
    "config = get_default_config(config_fp)\n",
    "config"
   ]
  },
  {
   "cell_type": "markdown",
   "id": "piano-scope",
   "metadata": {},
   "source": [
    "## Step 2: Setup Dataloader"
   ]
  },
  {
   "cell_type": "code",
   "execution_count": 3,
   "id": "defined-edgar",
   "metadata": {},
   "outputs": [
    {
     "data": {
      "text/plain": [
       "{'model_folder': 'gs://ml4cc_data_lake/0_DEV/2_Mart/2_MLModelMart',\n",
       " 'model_version': 'v1',\n",
       " 'hyperparameters': {'max_tile_size': 256,\n",
       "  'metric_monitor': 'val_dice_loss',\n",
       "  'channel_configuration': 'bgri',\n",
       "  'label_names': ['land', 'water', 'cloud'],\n",
       "  'weight_per_class': [1.93445299, 36.60054169, 2.19400729],\n",
       "  'model_type': 'linear',\n",
       "  'num_classes': 3,\n",
       "  'max_epochs': 10,\n",
       "  'val_every': 1,\n",
       "  'lr': 0.0001,\n",
       "  'lr_decay': 0.5,\n",
       "  'lr_patience': 2,\n",
       "  'early_stopping_patience': 4,\n",
       "  'num_channels': 4},\n",
       " 'train': True,\n",
       " 'test': True}"
      ]
     },
     "execution_count": 3,
     "metadata": {},
     "output_type": "execute_result"
    }
   ],
   "source": [
    "config.experiment_name = 'training_flooding_bgri'\n",
    "config.data_params.channel_configuration = 'bgri'\n",
    "config.model_params.hyperparameters.channel_configuration = 'bgri'\n",
    "config.model_params.hyperparameters.num_channels = 4\n",
    "config.data_params.bucket_id = \"\"\n",
    "config.model_params"
   ]
  },
  {
   "cell_type": "code",
   "execution_count": 4,
   "id": "scientific-musician",
   "metadata": {},
   "outputs": [
    {
     "name": "stdout",
     "output_type": "stream",
     "text": [
      "train 194151  tiles\n",
      "val 1284  tiles\n",
      "test 11  tiles\n",
      "CPU times: user 1.34 s, sys: 1.37 s, total: 2.71 s\n",
      "Wall time: 984 ms\n"
     ]
    }
   ],
   "source": [
    "%%time\n",
    "\n",
    "from ml4floods.models.dataset_setup import get_dataset\n",
    "\n",
    "config.data_params.batch_size = 64 # control this depending on the space on your GPU!\n",
    "config.data_params.loader_type = 'local'\n",
    "config.data_params.path_to_splits = \"/mnt/d/Flooding/worldfloods_v1_0\" # local folder to download the data\n",
    "config.data_params.train_test_split_file = \"/mnt/d/Flooding/train_test_split_local.json\"\n",
    "\n",
    "config.data_params[\"download\"] = {\"train\": True, \"val\": True, \"test\": True} # download only test data\n",
    "# config.data_params.train_test_split_file = \"2_PROD/2_Mart/worldfloods_v1_0/train_test_split.json\" # use this to train with all the data\n",
    "config.data_params.num_workers = 4\n",
    "\n",
    "# If files are not in config.data_params.path_to_splits this will trigger the download of the products.\n",
    "dataset = get_dataset(config.data_params)"
   ]
  },
  {
   "cell_type": "markdown",
   "id": "spanish-harassment",
   "metadata": {},
   "source": [
    "## Verfify data loader"
   ]
  },
  {
   "cell_type": "markdown",
   "id": "greatest-driver",
   "metadata": {},
   "source": [
    "#### Verify training data\n",
    "Data format here: https://github.com/spaceml-org/ml4floods/blob/891fe602880586e7ac821d2f282bf5ec9d4c0795/ml4floods/data/worldfloods/dataset.py#L106"
   ]
  },
  {
   "cell_type": "code",
   "execution_count": 5,
   "id": "fallen-harbor",
   "metadata": {},
   "outputs": [
    {
     "name": "stdout",
     "output_type": "stream",
     "text": [
      "3034\n"
     ]
    }
   ],
   "source": [
    "train_dl = dataset.train_dataloader()\n",
    "train_dl_iter = iter(train_dl)\n",
    "print(len(train_dl_iter))\n",
    "batch_train = next(train_dl_iter)\n",
    "\n",
    "# batch_train[\"image\"].shape, batch_train[\"mask\"].shape"
   ]
  },
  {
   "cell_type": "markdown",
   "id": "played-spanking",
   "metadata": {},
   "source": [
    "Verify validation data"
   ]
  },
  {
   "cell_type": "code",
   "execution_count": 6,
   "id": "injured-effect",
   "metadata": {},
   "outputs": [
    {
     "name": "stdout",
     "output_type": "stream",
     "text": [
      "21\n"
     ]
    }
   ],
   "source": [
    "val_dl = dataset.val_dataloader()\n",
    "\n",
    "val_dl_iter = iter(val_dl)\n",
    "print(len(val_dl_iter))\n",
    "batch_val = next(val_dl_iter)\n",
    "\n",
    "# batch_val[\"image\"].shape, batch_val[\"mask\"].shape"
   ]
  },
  {
   "cell_type": "code",
   "execution_count": 7,
   "id": "significant-multiple",
   "metadata": {},
   "outputs": [
    {
     "name": "stdout",
     "output_type": "stream",
     "text": [
      "11\n"
     ]
    }
   ],
   "source": [
    "test_dl = dataset.test_dataloader()\n",
    "\n",
    "test_dl_iter = iter(test_dl)\n",
    "print(len(test_dl_iter))\n",
    "\n",
    "batch_test = next(test_dl_iter)\n",
    "# batch_test[\"image\"].shape, batch_test[\"mask\"].shape"
   ]
  },
  {
   "cell_type": "markdown",
   "id": "smart-electron",
   "metadata": {},
   "source": [
    "### Plot batch by using ml4flood model \n",
    "check detail here: https://github.com/spaceml-org/ml4floods/blob/891fe602880586e7ac821d2f282bf5ec9d4c0795/ml4floods/data/worldfloods/dataset.py#L106"
   ]
  },
  {
   "cell_type": "raw",
   "id": "31b26d6b-ecc5-4648-92f5-299b6099f321",
   "metadata": {},
   "source": [
    "from models import flooding_model\n",
    "import matplotlib.pyplot as plt\n",
    "\n",
    "flooding_model.plot_batch(batch_train[\"image\"])\n",
    "\n",
    "n_images=6\n",
    "fig, axs = plt.subplots(3,n_images, figsize=(18,10),tight_layout=True)\n",
    "flooding_model.plot_batch(batch_train[\"image\"][:n_images],axs=axs[0],max_clip_val=3500.)\n",
    "flooding_model.plot_batch(batch_train[\"image\"][:n_images],bands_show=[\"B11\",\"B8\", \"B4\"],\n",
    "                             axs=axs[1],max_clip_val=4500.)\n",
    "flooding_model.plot_batch_output_v1(batch_train[\"mask\"][:n_images, 0],axs=axs[2], show_axis=True)"
   ]
  },
  {
   "cell_type": "code",
   "execution_count": 8,
   "id": "e7279717-cfb1-4d20-a915-869d1ab3ece6",
   "metadata": {},
   "outputs": [],
   "source": [
    "import importlib\n",
    "import matplotlib.pyplot as plt\n",
    "from models import flooding_model\n",
    "flooding_model = importlib.reload(flooding_model)\n",
    "\n",
    "# batch_train_rgb = flooding_model.batch_to_unnorm_rgb(batch_train[\"image\"])\n",
    "# # batch_train_rgb.shape\n",
    "# plt.imshow(batch_train_rgb[2])\n",
    "# plt.show()\n",
    "\n",
    "# batch_train_rgb_mask = flooding_model.batch_mask_to_rgb(batch_train[\"mask\"])\n",
    "# plt.imshow(batch_train_rgb_mask[2])\n",
    "# plt.colorbar()\n",
    "# plt.show()\n"
   ]
  },
  {
   "cell_type": "markdown",
   "id": "adaptive-cleanup",
   "metadata": {},
   "source": [
    "## Step 3: Setup Model"
   ]
  },
  {
   "cell_type": "code",
   "execution_count": 9,
   "id": "proud-surrey",
   "metadata": {},
   "outputs": [
    {
     "data": {
      "text/plain": [
       "{'model_folder': 'gs://ml4cc_data_lake/0_DEV/2_Mart/2_MLModelMart',\n",
       " 'model_version': 'v1',\n",
       " 'hyperparameters': {'max_tile_size': 256,\n",
       "  'metric_monitor': 'val_dice_loss',\n",
       "  'channel_configuration': 'bgri',\n",
       "  'label_names': ['land', 'water', 'cloud'],\n",
       "  'weight_per_class': [1.93445299, 36.60054169, 2.19400729],\n",
       "  'model_type': 'linear',\n",
       "  'num_classes': 3,\n",
       "  'max_epochs': 10,\n",
       "  'val_every': 1,\n",
       "  'lr': 0.0001,\n",
       "  'lr_decay': 0.5,\n",
       "  'lr_patience': 2,\n",
       "  'early_stopping_patience': 4,\n",
       "  'num_channels': 4},\n",
       " 'train': True,\n",
       " 'test': True}"
      ]
     },
     "execution_count": 9,
     "metadata": {},
     "output_type": "execute_result"
    }
   ],
   "source": [
    " # folder to store the trained model (it will create a subfolder with the name of the experiment)\n",
    "config.model_params"
   ]
  },
  {
   "cell_type": "code",
   "execution_count": 10,
   "id": "colonial-tiffany",
   "metadata": {},
   "outputs": [],
   "source": [
    "config.model_params.model_folder = \"train_models\" \n",
    "os.makedirs(\"train_models\", exist_ok=True)\n",
    "config.model_params.test = False\n",
    "config.model_params.train = True\n",
    "config.model_params.hyperparameters.model_type = \"unet\" # Currently implemented: simplecnn, unet, linear\n",
    "config.model_params.hyperparameters.metric_monitor = 'val_iou_loss' #IoU Loss\n",
    "# config.model_params.hyperparameters.num_channels = 3"
   ]
  },
  {
   "cell_type": "code",
   "execution_count": 11,
   "id": "alternative-bonus",
   "metadata": {},
   "outputs": [
    {
     "name": "stdout",
     "output_type": "stream",
     "text": [
      "num of channels:  4 , num of classes:  3\n"
     ]
    },
    {
     "data": {
      "text/plain": [
       "UNet(\n",
       "  (dconv_down1): Sequential(\n",
       "    (0): Conv2d(4, 64, kernel_size=(3, 3), stride=(1, 1), padding=(1, 1))\n",
       "    (1): ReLU(inplace=True)\n",
       "    (2): Conv2d(64, 64, kernel_size=(3, 3), stride=(1, 1), padding=(1, 1))\n",
       "    (3): ReLU(inplace=True)\n",
       "  )\n",
       "  (dconv_down2): Sequential(\n",
       "    (0): Conv2d(64, 128, kernel_size=(3, 3), stride=(1, 1), padding=(1, 1))\n",
       "    (1): ReLU(inplace=True)\n",
       "    (2): Conv2d(128, 128, kernel_size=(3, 3), stride=(1, 1), padding=(1, 1))\n",
       "    (3): ReLU(inplace=True)\n",
       "  )\n",
       "  (dconv_down3): Sequential(\n",
       "    (0): Conv2d(128, 256, kernel_size=(3, 3), stride=(1, 1), padding=(1, 1))\n",
       "    (1): ReLU(inplace=True)\n",
       "    (2): Conv2d(256, 256, kernel_size=(3, 3), stride=(1, 1), padding=(1, 1))\n",
       "    (3): ReLU(inplace=True)\n",
       "  )\n",
       "  (dconv_down4): Sequential(\n",
       "    (0): Conv2d(256, 512, kernel_size=(3, 3), stride=(1, 1), padding=(1, 1))\n",
       "    (1): ReLU(inplace=True)\n",
       "    (2): Conv2d(512, 512, kernel_size=(3, 3), stride=(1, 1), padding=(1, 1))\n",
       "    (3): ReLU(inplace=True)\n",
       "  )\n",
       "  (maxpool): MaxPool2d(kernel_size=2, stride=2, padding=0, dilation=1, ceil_mode=False)\n",
       "  (dconv_up3): Sequential(\n",
       "    (0): Conv2d(768, 256, kernel_size=(3, 3), stride=(1, 1), padding=(1, 1))\n",
       "    (1): ReLU(inplace=True)\n",
       "    (2): Conv2d(256, 256, kernel_size=(3, 3), stride=(1, 1), padding=(1, 1))\n",
       "    (3): ReLU(inplace=True)\n",
       "  )\n",
       "  (dconv_up2): Sequential(\n",
       "    (0): Conv2d(384, 128, kernel_size=(3, 3), stride=(1, 1), padding=(1, 1))\n",
       "    (1): ReLU(inplace=True)\n",
       "    (2): Conv2d(128, 128, kernel_size=(3, 3), stride=(1, 1), padding=(1, 1))\n",
       "    (3): ReLU(inplace=True)\n",
       "  )\n",
       "  (dconv_up1): Sequential(\n",
       "    (0): Conv2d(192, 64, kernel_size=(3, 3), stride=(1, 1), padding=(1, 1))\n",
       "    (1): ReLU(inplace=True)\n",
       "    (2): Conv2d(64, 64, kernel_size=(3, 3), stride=(1, 1), padding=(1, 1))\n",
       "    (3): ReLU(inplace=True)\n",
       "  )\n",
       "  (conv_last): Conv2d(64, 3, kernel_size=(1, 1), stride=(1, 1))\n",
       ")"
      ]
     },
     "execution_count": 11,
     "metadata": {},
     "output_type": "execute_result"
    }
   ],
   "source": [
    "import copy\n",
    "from models.flooding_model import WorldFloodsModel, DistilledTrainingModel, WorldFloodsModel2, WorldFloodsModel1\n",
    "importlib.reload(flooding_model)\n",
    "simple_model_params = copy.deepcopy(config.model_params)\n",
    "simple_model_params['hyperparameters']['model_type']=\"unet_simple\"\n",
    "\n",
    "# model = DistilledTrainingModel(config.model_params, simple_model_params)\n",
    "model = WorldFloodsModel2(config.model_params) # Focal loss and IoU loss\n",
    "# model = WorldFloodsModel1(config.model_params) # Focal loss and Dice loss\n",
    "net = model.network\n",
    "net"
   ]
  },
  {
   "cell_type": "code",
   "execution_count": 12,
   "id": "2c4307a4-d88a-417c-94aa-4dd145299a9d",
   "metadata": {},
   "outputs": [
    {
     "name": "stdout",
     "output_type": "stream",
     "text": [
      "Warning: module UNet is treated as a zero-op.\n",
      "UNet(\n",
      "  7.78 M, 100.000% Params, 42.51 GMac, 100.000% MACs, \n",
      "  (dconv_down1): Sequential(\n",
      "    39.3 k, 0.505% Params, 2.58 GMac, 6.078% MACs, \n",
      "    (0): Conv2d(2.37 k, 0.030% Params, 155.19 MMac, 0.365% MACs, 4, 64, kernel_size=(3, 3), stride=(1, 1), padding=(1, 1))\n",
      "    (1): ReLU(0, 0.000% Params, 4.19 MMac, 0.010% MACs, inplace=True)\n",
      "    (2): Conv2d(36.93 k, 0.474% Params, 2.42 GMac, 5.693% MACs, 64, 64, kernel_size=(3, 3), stride=(1, 1), padding=(1, 1))\n",
      "    (3): ReLU(0, 0.000% Params, 4.19 MMac, 0.010% MACs, inplace=True)\n",
      "  )\n",
      "  (dconv_down2): Sequential(\n",
      "    221.44 k, 2.845% Params, 3.63 GMac, 8.544% MACs, \n",
      "    (0): Conv2d(73.86 k, 0.949% Params, 1.21 GMac, 2.846% MACs, 64, 128, kernel_size=(3, 3), stride=(1, 1), padding=(1, 1))\n",
      "    (1): ReLU(0, 0.000% Params, 2.1 MMac, 0.005% MACs, inplace=True)\n",
      "    (2): Conv2d(147.58 k, 1.896% Params, 2.42 GMac, 5.688% MACs, 128, 128, kernel_size=(3, 3), stride=(1, 1), padding=(1, 1))\n",
      "    (3): ReLU(0, 0.000% Params, 2.1 MMac, 0.005% MACs, inplace=True)\n",
      "  )\n",
      "  (dconv_down3): Sequential(\n",
      "    885.25 k, 11.373% Params, 3.63 GMac, 8.535% MACs, \n",
      "    (0): Conv2d(295.17 k, 3.792% Params, 1.21 GMac, 2.844% MACs, 128, 256, kernel_size=(3, 3), stride=(1, 1), padding=(1, 1))\n",
      "    (1): ReLU(0, 0.000% Params, 1.05 MMac, 0.002% MACs, inplace=True)\n",
      "    (2): Conv2d(590.08 k, 7.581% Params, 2.42 GMac, 5.686% MACs, 256, 256, kernel_size=(3, 3), stride=(1, 1), padding=(1, 1))\n",
      "    (3): ReLU(0, 0.000% Params, 1.05 MMac, 0.002% MACs, inplace=True)\n",
      "  )\n",
      "  (dconv_down4): Sequential(\n",
      "    3.54 M, 45.480% Params, 3.63 GMac, 8.530% MACs, \n",
      "    (0): Conv2d(1.18 M, 15.162% Params, 1.21 GMac, 2.843% MACs, 256, 512, kernel_size=(3, 3), stride=(1, 1), padding=(1, 1))\n",
      "    (1): ReLU(0, 0.000% Params, 524.29 KMac, 0.001% MACs, inplace=True)\n",
      "    (2): Conv2d(2.36 M, 30.318% Params, 2.42 GMac, 5.684% MACs, 512, 512, kernel_size=(3, 3), stride=(1, 1), padding=(1, 1))\n",
      "    (3): ReLU(0, 0.000% Params, 524.29 KMac, 0.001% MACs, inplace=True)\n",
      "  )\n",
      "  (maxpool): MaxPool2d(0, 0.000% Params, 7.34 MMac, 0.017% MACs, kernel_size=2, stride=2, padding=0, dilation=1, ceil_mode=False)\n",
      "  (dconv_up3): Sequential(\n",
      "    2.36 M, 30.318% Params, 9.67 GMac, 22.742% MACs, \n",
      "    (0): Conv2d(1.77 M, 22.737% Params, 7.25 GMac, 17.052% MACs, 768, 256, kernel_size=(3, 3), stride=(1, 1), padding=(1, 1))\n",
      "    (1): ReLU(0, 0.000% Params, 1.05 MMac, 0.002% MACs, inplace=True)\n",
      "    (2): Conv2d(590.08 k, 7.581% Params, 2.42 GMac, 5.686% MACs, 256, 256, kernel_size=(3, 3), stride=(1, 1), padding=(1, 1))\n",
      "    (3): ReLU(0, 0.000% Params, 1.05 MMac, 0.002% MACs, inplace=True)\n",
      "  )\n",
      "  (dconv_up2): Sequential(\n",
      "    590.08 k, 7.581% Params, 9.67 GMac, 22.752% MACs, \n",
      "    (0): Conv2d(442.5 k, 5.685% Params, 7.25 GMac, 17.054% MACs, 384, 128, kernel_size=(3, 3), stride=(1, 1), padding=(1, 1))\n",
      "    (1): ReLU(0, 0.000% Params, 2.1 MMac, 0.005% MACs, inplace=True)\n",
      "    (2): Conv2d(147.58 k, 1.896% Params, 2.42 GMac, 5.688% MACs, 128, 128, kernel_size=(3, 3), stride=(1, 1), padding=(1, 1))\n",
      "    (3): ReLU(0, 0.000% Params, 2.1 MMac, 0.005% MACs, inplace=True)\n",
      "  )\n",
      "  (dconv_up1): Sequential(\n",
      "    147.58 k, 1.896% Params, 9.68 GMac, 22.772% MACs, \n",
      "    (0): Conv2d(110.66 k, 1.422% Params, 7.25 GMac, 17.059% MACs, 192, 64, kernel_size=(3, 3), stride=(1, 1), padding=(1, 1))\n",
      "    (1): ReLU(0, 0.000% Params, 4.19 MMac, 0.010% MACs, inplace=True)\n",
      "    (2): Conv2d(36.93 k, 0.474% Params, 2.42 GMac, 5.693% MACs, 64, 64, kernel_size=(3, 3), stride=(1, 1), padding=(1, 1))\n",
      "    (3): ReLU(0, 0.000% Params, 4.19 MMac, 0.010% MACs, inplace=True)\n",
      "  )\n",
      "  (conv_last): Conv2d(195, 0.003% Params, 12.78 MMac, 0.030% MACs, 64, 3, kernel_size=(1, 1), stride=(1, 1))\n",
      ")\n",
      "Computational complexity:       42.51 GMac\n",
      "Number of parameters:           7.78 M  \n"
     ]
    }
   ],
   "source": [
    "# Compuatation complexity of network\n",
    "from ptflops import get_model_complexity_info\n",
    "macs, params = get_model_complexity_info(net, (config.model_params.hyperparameters.num_channels, config.model_params.hyperparameters.max_tile_size, config.model_params.hyperparameters.max_tile_size), as_strings=True, print_per_layer_stat=True, verbose=True)\n",
    "print('{:<30}  {:<8}'.format('Computational complexity: ', macs))\n",
    "print('{:<30}  {:<8}'.format('Number of parameters: ', params))"
   ]
  },
  {
   "cell_type": "code",
   "execution_count": 13,
   "id": "seventh-stationery",
   "metadata": {},
   "outputs": [],
   "source": [
    "setup_weights_and_biases = False\n",
    "if setup_weights_and_biases:\n",
    "    import wandb\n",
    "    from pytorch_lightning.loggers import WandbLogger\n",
    "\n",
    "    # UNCOMMENT ON FIRST RUN TO LOGIN TO Weights and Biases (only needs to be done once)\n",
    "    # wandb.login()\n",
    "    # run = wandb.init()\n",
    "\n",
    "    # Specifies who is logging the experiment to wandb\n",
    "    config['wandb_entity'] = 'ml4floods'\n",
    "    # Specifies which wandb project to log to, multiple runs can exist in the same project\n",
    "    config['wandb_project'] = 'worldfloods-notebook-demo-project'\n",
    "\n",
    "    wandb_logger = WandbLogger(\n",
    "        name=config.experiment_name,\n",
    "        project=config.wandb_project, \n",
    "        entity=config.wandb_entity\n",
    "    )\n",
    "else:\n",
    "    wandb_logger = None"
   ]
  },
  {
   "cell_type": "code",
   "execution_count": 14,
   "id": "downtown-teens",
   "metadata": {},
   "outputs": [
    {
     "name": "stdout",
     "output_type": "stream",
     "text": [
      "The trained model will be stored in train_models/training_flooding_bgri\n"
     ]
    }
   ],
   "source": [
    "from pytorch_lightning.callbacks import ModelCheckpoint, EarlyStopping\n",
    "\n",
    "experiment_path = f\"{config.model_params.model_folder}/{config.experiment_name}\"\n",
    "\n",
    "checkpoint_callback = ModelCheckpoint(\n",
    "    dirpath=f\"{experiment_path}/checkpoint\",\n",
    "    save_top_k=True,\n",
    "    verbose=True,\n",
    "    monitor='val_iou_loss',\n",
    "    mode='min',\n",
    "#     prefix=''\n",
    ")\n",
    "\n",
    "early_stop_callback = EarlyStopping(\n",
    "    monitor='val_iou_loss',\n",
    "    patience=10,\n",
    "    strict=False,\n",
    "    verbose=False,\n",
    "    mode='min'\n",
    ")\n",
    "# monitor='val_iou_loss'\n",
    "# monitor='val_dice_loss'\n",
    "\n",
    "\n",
    "callbacks = [checkpoint_callback, early_stop_callback]\n",
    "\n",
    "print(f\"The trained model will be stored in {config.model_params.model_folder}/{config.experiment_name}\")"
   ]
  },
  {
   "cell_type": "code",
   "execution_count": 15,
   "id": "searching-charity",
   "metadata": {},
   "outputs": [
    {
     "name": "stderr",
     "output_type": "stream",
     "text": [
      "GPU available: True (cuda), used: True\n",
      "TPU available: False, using: 0 TPU cores\n",
      "IPU available: False, using: 0 IPUs\n",
      "HPU available: False, using: 0 HPUs\n"
     ]
    }
   ],
   "source": [
    "from pytorch_lightning import Trainer\n",
    "\n",
    "config.gpus = 1 # which gpu to use\n",
    "# config.gpus = None # to not use GPU\n",
    "config.model_params.hyperparameters.max_epochs = 40 # train for maximum 4 epochs\n",
    "\n",
    "trainer = Trainer(\n",
    "    fast_dev_run=False,\n",
    "    logger=wandb_logger,\n",
    "    callbacks=callbacks,\n",
    "    default_root_dir=f\"{config.model_params.model_folder}/{config.experiment_name}\",\n",
    "    accumulate_grad_batches=1,\n",
    "    gradient_clip_val=0.0,\n",
    "    auto_lr_find=False,\n",
    "    benchmark=False,\n",
    "    max_epochs=config.model_params.hyperparameters.max_epochs,\n",
    "    check_val_every_n_epoch=config.model_params.hyperparameters.val_every,\n",
    "    strategy='dp',\n",
    "    accelerator='gpu',\n",
    "    devices=config.gpus\n",
    ")\n",
    "# config\n",
    "# https://wandb.ai/wandb/wandb-lightning/reports/Multi-GPU-Training-Using-PyTorch-Lightning--VmlldzozMTk3NTk\n",
    "# resume_from_checkpoint='/home/eeaiserver/viplab_projects/satellite-knowledge-distillation/train_models/training_flooding_bgri/checkpoint/epoch=39-step=161799.ckpt'\n",
    "# resume_from_checkpoint='~/Projects/satellite-knowledge-distillation/train_models/training_flooding_bgri/checkpoint/epoch=30-step=47026.ckpt'"
   ]
  },
  {
   "cell_type": "code",
   "execution_count": null,
   "id": "superior-india",
   "metadata": {
    "tags": []
   },
   "outputs": [
    {
     "name": "stderr",
     "output_type": "stream",
     "text": [
      "LOCAL_RANK: 0 - CUDA_VISIBLE_DEVICES: [0]\n",
      "\n",
      "  | Name    | Type | Params\n",
      "---------------------------------\n",
      "0 | network | UNet | 7.8 M \n",
      "---------------------------------\n",
      "7.8 M     Trainable params\n",
      "0         Non-trainable params\n",
      "7.8 M     Total params\n",
      "31.134    Total estimated model params size (MB)\n"
     ]
    },
    {
     "name": "stdout",
     "output_type": "stream",
     "text": [
      "Sanity Checking: 0it [00:00, ?it/s]"
     ]
    },
    {
     "name": "stderr",
     "output_type": "stream",
     "text": [
      "/home/viplab/pt-gpu/lib/python3.10/site-packages/pytorch_lightning/trainer/connectors/data_connector.py:219: PossibleUserWarning: The dataloader, val_dataloader 0, does not have many workers which may be a bottleneck. Consider increasing the value of the `num_workers` argument` (try 24 which is the number of cpus on this machine) in the `DataLoader` init to improve performance.\n",
      "  rank_zero_warn(\n"
     ]
    },
    {
     "name": "stdout",
     "output_type": "stream",
     "text": [
      "Epoch 0:  99%|█████████████████████████████████████████████▋| 3034/3055 [1:32:46<00:38,  1.83s/it, loss=0.122]\n",
      "Validation: 0it [00:00, ?it/s]\u001b[A\n",
      "Validation:   0%|                                                                      | 0/21 [00:00<?, ?it/s]\u001b[A\n",
      "Validation DataLoader 0:   0%|                                                         | 0/21 [00:00<?, ?it/s]\u001b[A\n",
      "Epoch 0:  99%|█████████████████████████████████████████████▋| 3035/3055 [1:32:48<00:36,  1.83s/it, loss=0.122]\u001b[A\n",
      "Epoch 0:  99%|█████████████████████████████████████████████▋| 3036/3055 [1:32:49<00:34,  1.83s/it, loss=0.122]\u001b[A\n",
      "Epoch 0:  99%|█████████████████████████████████████████████▋| 3037/3055 [1:32:50<00:33,  1.83s/it, loss=0.122]\u001b[A\n",
      "Epoch 0:  99%|█████████████████████████████████████████████▋| 3038/3055 [1:32:51<00:31,  1.83s/it, loss=0.122]\u001b[A\n",
      "Epoch 0:  99%|█████████████████████████████████████████████▊| 3039/3055 [1:32:52<00:29,  1.83s/it, loss=0.122]\u001b[A\n",
      "Epoch 0: 100%|█████████████████████████████████████████████▊| 3040/3055 [1:32:53<00:27,  1.83s/it, loss=0.122]\u001b[A\n",
      "Epoch 0: 100%|█████████████████████████████████████████████▊| 3041/3055 [1:32:54<00:25,  1.83s/it, loss=0.122]\u001b[A\n",
      "Epoch 0: 100%|█████████████████████████████████████████████▊| 3042/3055 [1:32:55<00:23,  1.83s/it, loss=0.122]\u001b[A\n",
      "Epoch 0: 100%|█████████████████████████████████████████████▊| 3043/3055 [1:32:56<00:21,  1.83s/it, loss=0.122]\u001b[A\n",
      "Epoch 0: 100%|█████████████████████████████████████████████▊| 3044/3055 [1:32:57<00:20,  1.83s/it, loss=0.122]\u001b[A\n",
      "Epoch 0: 100%|█████████████████████████████████████████████▊| 3045/3055 [1:32:58<00:18,  1.83s/it, loss=0.122]\u001b[A\n",
      "Epoch 0: 100%|█████████████████████████████████████████████▊| 3046/3055 [1:32:59<00:16,  1.83s/it, loss=0.122]\u001b[A\n",
      "Epoch 0: 100%|█████████████████████████████████████████████▉| 3047/3055 [1:33:00<00:14,  1.83s/it, loss=0.122]\u001b[A\n",
      "Epoch 0: 100%|█████████████████████████████████████████████▉| 3048/3055 [1:33:01<00:12,  1.83s/it, loss=0.122]\u001b[A\n",
      "Epoch 0: 100%|█████████████████████████████████████████████▉| 3049/3055 [1:33:03<00:10,  1.83s/it, loss=0.122]\u001b[A\n",
      "Epoch 0: 100%|█████████████████████████████████████████████▉| 3050/3055 [1:33:04<00:09,  1.83s/it, loss=0.122]\u001b[A\n",
      "Epoch 0: 100%|█████████████████████████████████████████████▉| 3051/3055 [1:33:05<00:07,  1.83s/it, loss=0.122]\u001b[A\n",
      "Epoch 0: 100%|█████████████████████████████████████████████▉| 3052/3055 [1:33:06<00:05,  1.83s/it, loss=0.122]\u001b[A\n",
      "Epoch 0: 100%|█████████████████████████████████████████████▉| 3053/3055 [1:33:07<00:03,  1.83s/it, loss=0.122]\u001b[A\n",
      "Epoch 0: 100%|█████████████████████████████████████████████▉| 3054/3055 [1:33:08<00:01,  1.83s/it, loss=0.122]\u001b[A\n",
      "Epoch 0: 100%|██████████████████████████████████████████████| 3055/3055 [1:33:08<00:00,  1.83s/it, loss=0.122]\u001b[A\n",
      "Epoch 0: 100%|██████████████████████████████████████████████| 3055/3055 [1:33:08<00:00,  1.83s/it, loss=0.122]\u001b[A"
     ]
    },
    {
     "name": "stderr",
     "output_type": "stream",
     "text": [
      "Epoch 0, global step 3034: 'val_iou_loss' reached 0.29351 (best 0.29351), saving model to '/home/viplab/VipLabProjects/satellite-knowledge-distillation/train_models/training_flooding_bgri/checkpoint/epoch=0-step=3034.ckpt' as top True\n"
     ]
    },
    {
     "name": "stdout",
     "output_type": "stream",
     "text": [
      "Epoch 1:  99%|█████████████████████████████████████████████▋| 3034/3055 [1:34:11<00:39,  1.86s/it, loss=0.117]\n",
      "Validation: 0it [00:00, ?it/s]\u001b[A\n",
      "Validation:   0%|                                                                      | 0/21 [00:00<?, ?it/s]\u001b[A\n",
      "Validation DataLoader 0:   0%|                                                         | 0/21 [00:00<?, ?it/s]\u001b[A\n",
      "Epoch 1:  99%|█████████████████████████████████████████████▋| 3035/3055 [1:34:13<00:37,  1.86s/it, loss=0.117]\u001b[A\n",
      "Epoch 1:  99%|█████████████████████████████████████████████▋| 3036/3055 [1:34:14<00:35,  1.86s/it, loss=0.117]\u001b[A\n",
      "Epoch 1:  99%|█████████████████████████████████████████████▋| 3037/3055 [1:34:15<00:33,  1.86s/it, loss=0.117]\u001b[A\n",
      "Epoch 1:  99%|█████████████████████████████████████████████▋| 3038/3055 [1:34:16<00:31,  1.86s/it, loss=0.117]\u001b[A\n",
      "Epoch 1:  99%|█████████████████████████████████████████████▊| 3039/3055 [1:34:17<00:29,  1.86s/it, loss=0.117]\u001b[A\n",
      "Epoch 1: 100%|█████████████████████████████████████████████▊| 3040/3055 [1:34:18<00:27,  1.86s/it, loss=0.117]\u001b[A\n",
      "Epoch 1: 100%|█████████████████████████████████████████████▊| 3041/3055 [1:34:20<00:26,  1.86s/it, loss=0.117]\u001b[A\n",
      "Epoch 1: 100%|█████████████████████████████████████████████▊| 3042/3055 [1:34:21<00:24,  1.86s/it, loss=0.117]\u001b[A\n",
      "Epoch 1: 100%|█████████████████████████████████████████████▊| 3043/3055 [1:34:22<00:22,  1.86s/it, loss=0.117]\u001b[A\n",
      "Epoch 1: 100%|█████████████████████████████████████████████▊| 3044/3055 [1:34:23<00:20,  1.86s/it, loss=0.117]\u001b[A\n",
      "Epoch 1: 100%|█████████████████████████████████████████████▊| 3045/3055 [1:34:24<00:18,  1.86s/it, loss=0.117]\u001b[A\n",
      "Epoch 1: 100%|█████████████████████████████████████████████▊| 3046/3055 [1:34:26<00:16,  1.86s/it, loss=0.117]\u001b[A\n",
      "Epoch 1: 100%|█████████████████████████████████████████████▉| 3047/3055 [1:34:27<00:14,  1.86s/it, loss=0.117]\u001b[A\n",
      "Epoch 1: 100%|█████████████████████████████████████████████▉| 3048/3055 [1:34:28<00:13,  1.86s/it, loss=0.117]\u001b[A\n",
      "Epoch 1: 100%|█████████████████████████████████████████████▉| 3049/3055 [1:34:29<00:11,  1.86s/it, loss=0.117]\u001b[A\n",
      "Epoch 1: 100%|█████████████████████████████████████████████▉| 3050/3055 [1:34:30<00:09,  1.86s/it, loss=0.117]\u001b[A\n",
      "Epoch 1: 100%|█████████████████████████████████████████████▉| 3051/3055 [1:34:31<00:07,  1.86s/it, loss=0.117]\u001b[A\n",
      "Epoch 1: 100%|█████████████████████████████████████████████▉| 3052/3055 [1:34:32<00:05,  1.86s/it, loss=0.117]\u001b[A\n",
      "Epoch 1: 100%|█████████████████████████████████████████████▉| 3053/3055 [1:34:33<00:03,  1.86s/it, loss=0.117]\u001b[A\n",
      "Epoch 1: 100%|█████████████████████████████████████████████▉| 3054/3055 [1:34:34<00:01,  1.86s/it, loss=0.117]\u001b[A\n",
      "Epoch 1: 100%|██████████████████████████████████████████████| 3055/3055 [1:34:34<00:00,  1.86s/it, loss=0.117]\u001b[A\n",
      "Epoch 1: 100%|██████████████████████████████████████████████| 3055/3055 [1:34:34<00:00,  1.86s/it, loss=0.117]\u001b[A"
     ]
    },
    {
     "name": "stderr",
     "output_type": "stream",
     "text": [
      "Epoch 1, global step 6068: 'val_iou_loss' was not in top True\n"
     ]
    },
    {
     "name": "stdout",
     "output_type": "stream",
     "text": [
      "Epoch 2:  99%|█████████████████████████████████████████████▋| 3034/3055 [1:36:06<00:39,  1.90s/it, loss=0.136]\n",
      "Validation: 0it [00:00, ?it/s]\u001b[A\n",
      "Validation:   0%|                                                                      | 0/21 [00:00<?, ?it/s]\u001b[A\n",
      "Validation DataLoader 0:   0%|                                                         | 0/21 [00:00<?, ?it/s]\u001b[A\n",
      "Epoch 2:  99%|█████████████████████████████████████████████▋| 3035/3055 [1:36:07<00:38,  1.90s/it, loss=0.136]\u001b[A\n",
      "Epoch 2:  99%|█████████████████████████████████████████████▋| 3036/3055 [1:36:09<00:36,  1.90s/it, loss=0.136]\u001b[A\n",
      "Epoch 2:  99%|█████████████████████████████████████████████▋| 3037/3055 [1:36:10<00:34,  1.90s/it, loss=0.136]\u001b[A\n",
      "Epoch 2:  99%|█████████████████████████████████████████████▋| 3038/3055 [1:36:11<00:32,  1.90s/it, loss=0.136]\u001b[A\n",
      "Epoch 2:  99%|█████████████████████████████████████████████▊| 3039/3055 [1:36:12<00:30,  1.90s/it, loss=0.136]\u001b[A\n",
      "Epoch 2: 100%|█████████████████████████████████████████████▊| 3040/3055 [1:36:13<00:28,  1.90s/it, loss=0.136]\u001b[A\n",
      "Epoch 2: 100%|█████████████████████████████████████████████▊| 3041/3055 [1:36:14<00:26,  1.90s/it, loss=0.136]\u001b[A\n",
      "Epoch 2: 100%|█████████████████████████████████████████████▊| 3042/3055 [1:36:15<00:24,  1.90s/it, loss=0.136]\u001b[A\n",
      "Epoch 2: 100%|█████████████████████████████████████████████▊| 3043/3055 [1:36:16<00:22,  1.90s/it, loss=0.136]\u001b[A\n",
      "Epoch 2: 100%|█████████████████████████████████████████████▊| 3044/3055 [1:36:17<00:20,  1.90s/it, loss=0.136]\u001b[A\n",
      "Epoch 2: 100%|█████████████████████████████████████████████▊| 3045/3055 [1:36:18<00:18,  1.90s/it, loss=0.136]\u001b[A\n",
      "Epoch 2: 100%|█████████████████████████████████████████████▊| 3046/3055 [1:36:19<00:17,  1.90s/it, loss=0.136]\u001b[A\n",
      "Epoch 2: 100%|█████████████████████████████████████████████▉| 3047/3055 [1:36:21<00:15,  1.90s/it, loss=0.136]\u001b[A\n",
      "Epoch 2: 100%|█████████████████████████████████████████████▉| 3048/3055 [1:36:22<00:13,  1.90s/it, loss=0.136]\u001b[A\n",
      "Epoch 2: 100%|█████████████████████████████████████████████▉| 3049/3055 [1:36:23<00:11,  1.90s/it, loss=0.136]\u001b[A\n",
      "Epoch 2: 100%|█████████████████████████████████████████████▉| 3050/3055 [1:36:24<00:09,  1.90s/it, loss=0.136]\u001b[A\n",
      "Epoch 2: 100%|█████████████████████████████████████████████▉| 3051/3055 [1:36:25<00:07,  1.90s/it, loss=0.136]\u001b[A\n",
      "Epoch 2: 100%|█████████████████████████████████████████████▉| 3052/3055 [1:36:26<00:05,  1.90s/it, loss=0.136]\u001b[A\n",
      "Epoch 2: 100%|█████████████████████████████████████████████▉| 3053/3055 [1:36:27<00:03,  1.90s/it, loss=0.136]\u001b[A\n",
      "Epoch 2: 100%|█████████████████████████████████████████████▉| 3054/3055 [1:36:28<00:01,  1.90s/it, loss=0.136]\u001b[A\n",
      "Epoch 2: 100%|██████████████████████████████████████████████| 3055/3055 [1:36:28<00:00,  1.89s/it, loss=0.136]\u001b[A\n",
      "Epoch 2: 100%|██████████████████████████████████████████████| 3055/3055 [1:36:28<00:00,  1.89s/it, loss=0.136]\u001b[A"
     ]
    },
    {
     "name": "stderr",
     "output_type": "stream",
     "text": [
      "Epoch 2, global step 9102: 'val_iou_loss' was not in top True\n"
     ]
    },
    {
     "name": "stdout",
     "output_type": "stream",
     "text": [
      "Epoch 3:  99%|█████████████████████████████████████████████▋| 3034/3055 [1:32:30<00:38,  1.83s/it, loss=0.118]\n",
      "Validation: 0it [00:00, ?it/s]\u001b[A\n",
      "Validation:   0%|                                                                      | 0/21 [00:00<?, ?it/s]\u001b[A\n",
      "Validation DataLoader 0:   0%|                                                         | 0/21 [00:00<?, ?it/s]\u001b[A\n",
      "Epoch 3:  99%|█████████████████████████████████████████████▋| 3035/3055 [1:32:31<00:36,  1.83s/it, loss=0.118]\u001b[A\n",
      "Epoch 3:  99%|█████████████████████████████████████████████▋| 3036/3055 [1:32:32<00:34,  1.83s/it, loss=0.118]\u001b[A\n",
      "Epoch 3:  99%|█████████████████████████████████████████████▋| 3037/3055 [1:32:33<00:32,  1.83s/it, loss=0.118]\u001b[A\n",
      "Epoch 3:  99%|█████████████████████████████████████████████▋| 3038/3055 [1:32:34<00:31,  1.83s/it, loss=0.118]\u001b[A\n",
      "Epoch 3:  99%|█████████████████████████████████████████████▊| 3039/3055 [1:32:35<00:29,  1.83s/it, loss=0.118]\u001b[A\n",
      "Epoch 3: 100%|█████████████████████████████████████████████▊| 3040/3055 [1:32:36<00:27,  1.83s/it, loss=0.118]\u001b[A\n",
      "Epoch 3: 100%|█████████████████████████████████████████████▊| 3041/3055 [1:32:37<00:25,  1.83s/it, loss=0.118]\u001b[A\n",
      "Epoch 3: 100%|█████████████████████████████████████████████▊| 3042/3055 [1:32:38<00:23,  1.83s/it, loss=0.118]\u001b[A\n",
      "Epoch 3: 100%|█████████████████████████████████████████████▊| 3043/3055 [1:32:39<00:21,  1.83s/it, loss=0.118]\u001b[A\n",
      "Epoch 3: 100%|█████████████████████████████████████████████▊| 3044/3055 [1:32:41<00:20,  1.83s/it, loss=0.118]\u001b[A\n",
      "Epoch 3: 100%|█████████████████████████████████████████████▊| 3045/3055 [1:32:42<00:18,  1.83s/it, loss=0.118]\u001b[A\n",
      "Epoch 3: 100%|█████████████████████████████████████████████▊| 3046/3055 [1:32:43<00:16,  1.83s/it, loss=0.118]\u001b[A\n",
      "Epoch 3: 100%|█████████████████████████████████████████████▉| 3047/3055 [1:32:44<00:14,  1.83s/it, loss=0.118]\u001b[A\n",
      "Epoch 3: 100%|█████████████████████████████████████████████▉| 3048/3055 [1:32:45<00:12,  1.83s/it, loss=0.118]\u001b[A\n",
      "Epoch 3: 100%|█████████████████████████████████████████████▉| 3049/3055 [1:32:46<00:10,  1.83s/it, loss=0.118]\u001b[A\n",
      "Epoch 3: 100%|█████████████████████████████████████████████▉| 3050/3055 [1:32:47<00:09,  1.83s/it, loss=0.118]\u001b[A\n",
      "Epoch 3: 100%|█████████████████████████████████████████████▉| 3051/3055 [1:32:48<00:07,  1.83s/it, loss=0.118]\u001b[A\n",
      "Epoch 3: 100%|█████████████████████████████████████████████▉| 3052/3055 [1:32:49<00:05,  1.82s/it, loss=0.118]\u001b[A\n",
      "Epoch 3: 100%|█████████████████████████████████████████████▉| 3053/3055 [1:32:50<00:03,  1.82s/it, loss=0.118]\u001b[A\n",
      "Epoch 3: 100%|█████████████████████████████████████████████▉| 3054/3055 [1:32:51<00:01,  1.82s/it, loss=0.118]\u001b[A\n",
      "Epoch 3: 100%|██████████████████████████████████████████████| 3055/3055 [1:32:51<00:00,  1.82s/it, loss=0.118]\u001b[A\n",
      "Epoch 3: 100%|██████████████████████████████████████████████| 3055/3055 [1:32:51<00:00,  1.82s/it, loss=0.118]\u001b[A"
     ]
    },
    {
     "name": "stderr",
     "output_type": "stream",
     "text": [
      "Epoch 3, global step 12136: 'val_iou_loss' reached 0.26627 (best 0.26627), saving model to '/home/viplab/VipLabProjects/satellite-knowledge-distillation/train_models/training_flooding_bgri/checkpoint/epoch=3-step=12136.ckpt' as top True\n"
     ]
    },
    {
     "name": "stdout",
     "output_type": "stream",
     "text": [
      "Epoch 4:  99%|█████████████████████████████████████████████▋| 3034/3055 [1:27:31<00:36,  1.73s/it, loss=0.115]\n",
      "Validation: 0it [00:00, ?it/s]\u001b[A\n",
      "Validation:   0%|                                                                      | 0/21 [00:00<?, ?it/s]\u001b[A\n",
      "Validation DataLoader 0:   0%|                                                         | 0/21 [00:00<?, ?it/s]\u001b[A\n",
      "Epoch 4:  99%|█████████████████████████████████████████████▋| 3035/3055 [1:27:32<00:34,  1.73s/it, loss=0.115]\u001b[A\n",
      "Epoch 4:  99%|█████████████████████████████████████████████▋| 3036/3055 [1:27:33<00:32,  1.73s/it, loss=0.115]\u001b[A\n",
      "Epoch 4:  99%|█████████████████████████████████████████████▋| 3037/3055 [1:27:34<00:31,  1.73s/it, loss=0.115]\u001b[A\n",
      "Epoch 4:  99%|█████████████████████████████████████████████▋| 3038/3055 [1:27:35<00:29,  1.73s/it, loss=0.115]\u001b[A\n",
      "Epoch 4:  99%|█████████████████████████████████████████████▊| 3039/3055 [1:27:36<00:27,  1.73s/it, loss=0.115]\u001b[A\n",
      "Epoch 4: 100%|█████████████████████████████████████████████▊| 3040/3055 [1:27:37<00:25,  1.73s/it, loss=0.115]\u001b[A\n",
      "Epoch 4: 100%|█████████████████████████████████████████████▊| 3041/3055 [1:27:38<00:24,  1.73s/it, loss=0.115]\u001b[A\n",
      "Epoch 4: 100%|█████████████████████████████████████████████▊| 3042/3055 [1:27:39<00:22,  1.73s/it, loss=0.115]\u001b[A\n",
      "Epoch 4: 100%|█████████████████████████████████████████████▊| 3043/3055 [1:27:41<00:20,  1.73s/it, loss=0.115]\u001b[A\n",
      "Epoch 4: 100%|█████████████████████████████████████████████▊| 3044/3055 [1:27:42<00:19,  1.73s/it, loss=0.115]\u001b[A\n",
      "Epoch 4: 100%|█████████████████████████████████████████████▊| 3045/3055 [1:27:43<00:17,  1.73s/it, loss=0.115]\u001b[A\n",
      "Epoch 4: 100%|█████████████████████████████████████████████▊| 3046/3055 [1:27:44<00:15,  1.73s/it, loss=0.115]\u001b[A\n",
      "Epoch 4: 100%|█████████████████████████████████████████████▉| 3047/3055 [1:27:45<00:13,  1.73s/it, loss=0.115]\u001b[A\n",
      "Epoch 4: 100%|█████████████████████████████████████████████▉| 3048/3055 [1:27:46<00:12,  1.73s/it, loss=0.115]\u001b[A\n",
      "Epoch 4: 100%|█████████████████████████████████████████████▉| 3049/3055 [1:27:47<00:10,  1.73s/it, loss=0.115]\u001b[A\n",
      "Epoch 4: 100%|█████████████████████████████████████████████▉| 3050/3055 [1:27:48<00:08,  1.73s/it, loss=0.115]\u001b[A\n",
      "Epoch 4: 100%|█████████████████████████████████████████████▉| 3051/3055 [1:27:49<00:06,  1.73s/it, loss=0.115]\u001b[A\n",
      "Epoch 4: 100%|█████████████████████████████████████████████▉| 3052/3055 [1:27:50<00:05,  1.73s/it, loss=0.115]\u001b[A\n",
      "Epoch 4: 100%|█████████████████████████████████████████████▉| 3053/3055 [1:27:51<00:03,  1.73s/it, loss=0.115]\u001b[A\n",
      "Epoch 4: 100%|█████████████████████████████████████████████▉| 3054/3055 [1:27:52<00:01,  1.73s/it, loss=0.115]\u001b[A\n",
      "Epoch 4: 100%|██████████████████████████████████████████████| 3055/3055 [1:27:52<00:00,  1.73s/it, loss=0.115]\u001b[A\n",
      "Epoch 4: 100%|██████████████████████████████████████████████| 3055/3055 [1:27:52<00:00,  1.73s/it, loss=0.115]\u001b[A"
     ]
    },
    {
     "name": "stderr",
     "output_type": "stream",
     "text": [
      "Epoch 4, global step 15170: 'val_iou_loss' was not in top True\n"
     ]
    },
    {
     "name": "stdout",
     "output_type": "stream",
     "text": [
      "Epoch 5:  99%|█████████████████████████████████████████████▋| 3034/3055 [1:26:01<00:35,  1.70s/it, loss=0.115]\n",
      "Validation: 0it [00:00, ?it/s]\u001b[A\n",
      "Validation:   0%|                                                                      | 0/21 [00:00<?, ?it/s]\u001b[A\n",
      "Validation DataLoader 0:   0%|                                                         | 0/21 [00:00<?, ?it/s]\u001b[A\n",
      "Epoch 5:  99%|█████████████████████████████████████████████▋| 3035/3055 [1:26:02<00:34,  1.70s/it, loss=0.115]\u001b[A\n",
      "Epoch 5:  99%|█████████████████████████████████████████████▋| 3036/3055 [1:26:03<00:32,  1.70s/it, loss=0.115]\u001b[A\n",
      "Epoch 5:  99%|█████████████████████████████████████████████▋| 3037/3055 [1:26:04<00:30,  1.70s/it, loss=0.115]\u001b[A\n",
      "Epoch 5:  99%|█████████████████████████████████████████████▋| 3038/3055 [1:26:05<00:28,  1.70s/it, loss=0.115]\u001b[A\n",
      "Epoch 5:  99%|█████████████████████████████████████████████▊| 3039/3055 [1:26:06<00:27,  1.70s/it, loss=0.115]\u001b[A\n",
      "Epoch 5: 100%|█████████████████████████████████████████████▊| 3040/3055 [1:26:08<00:25,  1.70s/it, loss=0.115]\u001b[A\n",
      "Epoch 5: 100%|█████████████████████████████████████████████▊| 3041/3055 [1:26:09<00:23,  1.70s/it, loss=0.115]\u001b[A\n",
      "Epoch 5: 100%|█████████████████████████████████████████████▊| 3042/3055 [1:26:10<00:22,  1.70s/it, loss=0.115]\u001b[A\n",
      "Epoch 5: 100%|█████████████████████████████████████████████▊| 3043/3055 [1:26:11<00:20,  1.70s/it, loss=0.115]\u001b[A\n",
      "Epoch 5: 100%|█████████████████████████████████████████████▊| 3044/3055 [1:26:12<00:18,  1.70s/it, loss=0.115]\u001b[A\n",
      "Epoch 5: 100%|█████████████████████████████████████████████▊| 3045/3055 [1:26:13<00:16,  1.70s/it, loss=0.115]\u001b[A\n",
      "Epoch 5: 100%|█████████████████████████████████████████████▊| 3046/3055 [1:26:14<00:15,  1.70s/it, loss=0.115]\u001b[A\n",
      "Epoch 5: 100%|█████████████████████████████████████████████▉| 3047/3055 [1:26:15<00:13,  1.70s/it, loss=0.115]\u001b[A\n",
      "Epoch 5: 100%|█████████████████████████████████████████████▉| 3048/3055 [1:26:16<00:11,  1.70s/it, loss=0.115]\u001b[A\n",
      "Epoch 5: 100%|█████████████████████████████████████████████▉| 3049/3055 [1:26:17<00:10,  1.70s/it, loss=0.115]\u001b[A\n",
      "Epoch 5: 100%|█████████████████████████████████████████████▉| 3050/3055 [1:26:18<00:08,  1.70s/it, loss=0.115]\u001b[A\n",
      "Epoch 5: 100%|█████████████████████████████████████████████▉| 3051/3055 [1:26:19<00:06,  1.70s/it, loss=0.115]\u001b[A\n",
      "Epoch 5: 100%|█████████████████████████████████████████████▉| 3052/3055 [1:26:20<00:05,  1.70s/it, loss=0.115]\u001b[A\n",
      "Epoch 5: 100%|█████████████████████████████████████████████▉| 3053/3055 [1:26:21<00:03,  1.70s/it, loss=0.115]\u001b[A\n",
      "Epoch 5: 100%|█████████████████████████████████████████████▉| 3054/3055 [1:26:22<00:01,  1.70s/it, loss=0.115]\u001b[A\n",
      "Epoch 5: 100%|██████████████████████████████████████████████| 3055/3055 [1:26:22<00:00,  1.70s/it, loss=0.115]\u001b[A\n",
      "Epoch 5: 100%|██████████████████████████████████████████████| 3055/3055 [1:26:22<00:00,  1.70s/it, loss=0.115]\u001b[A"
     ]
    },
    {
     "name": "stderr",
     "output_type": "stream",
     "text": [
      "Epoch 5, global step 18204: 'val_iou_loss' was not in top True\n"
     ]
    },
    {
     "name": "stdout",
     "output_type": "stream",
     "text": [
      "Epoch 6:  99%|█████████████████████████████████████████████▋| 3034/3055 [1:26:41<00:36,  1.71s/it, loss=0.119]\n",
      "Validation: 0it [00:00, ?it/s]\u001b[A\n",
      "Validation:   0%|                                                                      | 0/21 [00:00<?, ?it/s]\u001b[A\n",
      "Validation DataLoader 0:   0%|                                                         | 0/21 [00:00<?, ?it/s]\u001b[A\n",
      "Epoch 6:  99%|█████████████████████████████████████████████▋| 3035/3055 [1:26:42<00:34,  1.71s/it, loss=0.119]\u001b[A\n",
      "Epoch 6:  99%|█████████████████████████████████████████████▋| 3036/3055 [1:26:43<00:32,  1.71s/it, loss=0.119]\u001b[A\n",
      "Epoch 6:  99%|█████████████████████████████████████████████▋| 3037/3055 [1:26:44<00:30,  1.71s/it, loss=0.119]\u001b[A\n",
      "Epoch 6:  99%|█████████████████████████████████████████████▋| 3038/3055 [1:26:45<00:29,  1.71s/it, loss=0.119]\u001b[A\n",
      "Epoch 6:  99%|█████████████████████████████████████████████▊| 3039/3055 [1:26:46<00:27,  1.71s/it, loss=0.119]\u001b[A\n",
      "Epoch 6: 100%|█████████████████████████████████████████████▊| 3040/3055 [1:26:47<00:25,  1.71s/it, loss=0.119]\u001b[A\n",
      "Epoch 6: 100%|█████████████████████████████████████████████▊| 3041/3055 [1:26:48<00:23,  1.71s/it, loss=0.119]\u001b[A\n",
      "Epoch 6: 100%|█████████████████████████████████████████████▊| 3042/3055 [1:26:49<00:22,  1.71s/it, loss=0.119]\u001b[A\n",
      "Epoch 6: 100%|█████████████████████████████████████████████▊| 3043/3055 [1:26:51<00:20,  1.71s/it, loss=0.119]\u001b[A\n",
      "Epoch 6: 100%|█████████████████████████████████████████████▊| 3044/3055 [1:26:52<00:18,  1.71s/it, loss=0.119]\u001b[A\n",
      "Epoch 6: 100%|█████████████████████████████████████████████▊| 3045/3055 [1:26:53<00:17,  1.71s/it, loss=0.119]\u001b[A\n",
      "Epoch 6: 100%|█████████████████████████████████████████████▊| 3046/3055 [1:26:54<00:15,  1.71s/it, loss=0.119]\u001b[A\n",
      "Epoch 6: 100%|█████████████████████████████████████████████▉| 3047/3055 [1:26:55<00:13,  1.71s/it, loss=0.119]\u001b[A\n",
      "Epoch 6: 100%|█████████████████████████████████████████████▉| 3048/3055 [1:26:56<00:11,  1.71s/it, loss=0.119]\u001b[A\n",
      "Epoch 6: 100%|█████████████████████████████████████████████▉| 3049/3055 [1:26:57<00:10,  1.71s/it, loss=0.119]\u001b[A\n",
      "Epoch 6: 100%|█████████████████████████████████████████████▉| 3050/3055 [1:26:58<00:08,  1.71s/it, loss=0.119]\u001b[A\n",
      "Epoch 6: 100%|█████████████████████████████████████████████▉| 3051/3055 [1:26:59<00:06,  1.71s/it, loss=0.119]\u001b[A\n",
      "Epoch 6: 100%|█████████████████████████████████████████████▉| 3052/3055 [1:27:00<00:05,  1.71s/it, loss=0.119]\u001b[A\n",
      "Epoch 6: 100%|█████████████████████████████████████████████▉| 3053/3055 [1:27:01<00:03,  1.71s/it, loss=0.119]\u001b[A\n",
      "Epoch 6: 100%|█████████████████████████████████████████████▉| 3054/3055 [1:27:02<00:01,  1.71s/it, loss=0.119]\u001b[A\n",
      "Epoch 6: 100%|██████████████████████████████████████████████| 3055/3055 [1:27:02<00:00,  1.71s/it, loss=0.119]\u001b[A\n",
      "Epoch 6: 100%|██████████████████████████████████████████████| 3055/3055 [1:27:02<00:00,  1.71s/it, loss=0.119]\u001b[A"
     ]
    },
    {
     "name": "stderr",
     "output_type": "stream",
     "text": [
      "Epoch 6, global step 21238: 'val_iou_loss' was not in top True\n"
     ]
    },
    {
     "name": "stdout",
     "output_type": "stream",
     "text": [
      "Epoch 00007: reducing learning rate of group 0 to 5.0000e-05.\n",
      "Epoch 7:  99%|█████████████████████████████████████████████▋| 3034/3055 [1:26:56<00:36,  1.72s/it, loss=0.114]\n",
      "Validation: 0it [00:00, ?it/s]\u001b[A\n",
      "Validation:   0%|                                                                      | 0/21 [00:00<?, ?it/s]\u001b[A\n",
      "Validation DataLoader 0:   0%|                                                         | 0/21 [00:00<?, ?it/s]\u001b[A\n",
      "Epoch 7:  99%|█████████████████████████████████████████████▋| 3035/3055 [1:26:57<00:34,  1.72s/it, loss=0.114]\u001b[A\n",
      "Epoch 7:  99%|█████████████████████████████████████████████▋| 3036/3055 [1:26:58<00:32,  1.72s/it, loss=0.114]\u001b[A\n",
      "Epoch 7:  99%|█████████████████████████████████████████████▋| 3037/3055 [1:26:59<00:30,  1.72s/it, loss=0.114]\u001b[A\n",
      "Epoch 7:  99%|█████████████████████████████████████████████▋| 3038/3055 [1:27:00<00:29,  1.72s/it, loss=0.114]\u001b[A\n",
      "Epoch 7:  99%|█████████████████████████████████████████████▊| 3039/3055 [1:27:01<00:27,  1.72s/it, loss=0.114]\u001b[A\n",
      "Epoch 7: 100%|█████████████████████████████████████████████▊| 3040/3055 [1:27:02<00:25,  1.72s/it, loss=0.114]\u001b[A\n",
      "Epoch 7: 100%|█████████████████████████████████████████████▊| 3041/3055 [1:27:03<00:24,  1.72s/it, loss=0.114]\u001b[A\n",
      "Epoch 7: 100%|█████████████████████████████████████████████▊| 3042/3055 [1:27:05<00:22,  1.72s/it, loss=0.114]\u001b[A\n",
      "Epoch 7: 100%|█████████████████████████████████████████████▊| 3043/3055 [1:27:06<00:20,  1.72s/it, loss=0.114]\u001b[A\n",
      "Epoch 7: 100%|█████████████████████████████████████████████▊| 3044/3055 [1:27:07<00:18,  1.72s/it, loss=0.114]\u001b[A\n",
      "Epoch 7: 100%|█████████████████████████████████████████████▊| 3045/3055 [1:27:08<00:17,  1.72s/it, loss=0.114]\u001b[A\n",
      "Epoch 7: 100%|█████████████████████████████████████████████▊| 3046/3055 [1:27:09<00:15,  1.72s/it, loss=0.114]\u001b[A\n",
      "Epoch 7: 100%|█████████████████████████████████████████████▉| 3047/3055 [1:27:10<00:13,  1.72s/it, loss=0.114]\u001b[A\n",
      "Epoch 7: 100%|█████████████████████████████████████████████▉| 3048/3055 [1:27:11<00:12,  1.72s/it, loss=0.114]\u001b[A\n",
      "Epoch 7: 100%|█████████████████████████████████████████████▉| 3049/3055 [1:27:12<00:10,  1.72s/it, loss=0.114]\u001b[A\n",
      "Epoch 7: 100%|█████████████████████████████████████████████▉| 3050/3055 [1:27:13<00:08,  1.72s/it, loss=0.114]\u001b[A\n",
      "Epoch 7: 100%|█████████████████████████████████████████████▉| 3051/3055 [1:27:15<00:06,  1.72s/it, loss=0.114]\u001b[A\n",
      "Epoch 7: 100%|█████████████████████████████████████████████▉| 3052/3055 [1:27:16<00:05,  1.72s/it, loss=0.114]\u001b[A\n",
      "Epoch 7: 100%|█████████████████████████████████████████████▉| 3053/3055 [1:27:17<00:03,  1.72s/it, loss=0.114]\u001b[A\n",
      "Epoch 7: 100%|█████████████████████████████████████████████▉| 3054/3055 [1:27:18<00:01,  1.72s/it, loss=0.114]\u001b[A\n",
      "Epoch 7: 100%|██████████████████████████████████████████████| 3055/3055 [1:27:18<00:00,  1.71s/it, loss=0.114]\u001b[A\n",
      "Epoch 7: 100%|██████████████████████████████████████████████| 3055/3055 [1:27:18<00:00,  1.71s/it, loss=0.114]\u001b[A"
     ]
    },
    {
     "name": "stderr",
     "output_type": "stream",
     "text": [
      "Epoch 7, global step 24272: 'val_iou_loss' was not in top True\n"
     ]
    },
    {
     "name": "stdout",
     "output_type": "stream",
     "text": [
      "Epoch 8:  99%|█████████████████████████████████████████████▋| 3034/3055 [1:26:49<00:36,  1.72s/it, loss=0.121]\n",
      "Validation: 0it [00:00, ?it/s]\u001b[A\n",
      "Validation:   0%|                                                                      | 0/21 [00:00<?, ?it/s]\u001b[A\n",
      "Validation DataLoader 0:   0%|                                                         | 0/21 [00:00<?, ?it/s]\u001b[A\n",
      "Epoch 8:  99%|█████████████████████████████████████████████▋| 3035/3055 [1:26:50<00:34,  1.72s/it, loss=0.121]\u001b[A\n",
      "Epoch 8:  99%|█████████████████████████████████████████████▋| 3036/3055 [1:26:51<00:32,  1.72s/it, loss=0.121]\u001b[A\n",
      "Epoch 8:  99%|█████████████████████████████████████████████▋| 3037/3055 [1:26:52<00:30,  1.72s/it, loss=0.121]\u001b[A\n",
      "Epoch 8:  99%|█████████████████████████████████████████████▋| 3038/3055 [1:26:54<00:29,  1.72s/it, loss=0.121]\u001b[A\n",
      "Epoch 8:  99%|█████████████████████████████████████████████▊| 3039/3055 [1:26:55<00:27,  1.72s/it, loss=0.121]\u001b[A\n",
      "Epoch 8: 100%|█████████████████████████████████████████████▊| 3040/3055 [1:26:56<00:25,  1.72s/it, loss=0.121]\u001b[A\n",
      "Epoch 8: 100%|█████████████████████████████████████████████▊| 3041/3055 [1:26:57<00:24,  1.72s/it, loss=0.121]\u001b[A\n",
      "Epoch 8: 100%|█████████████████████████████████████████████▊| 3042/3055 [1:26:58<00:22,  1.72s/it, loss=0.121]\u001b[A\n",
      "Epoch 8: 100%|█████████████████████████████████████████████▊| 3043/3055 [1:26:59<00:20,  1.72s/it, loss=0.121]\u001b[A\n",
      "Epoch 8: 100%|█████████████████████████████████████████████▊| 3044/3055 [1:27:00<00:18,  1.71s/it, loss=0.121]\u001b[A\n",
      "Epoch 8: 100%|█████████████████████████████████████████████▊| 3045/3055 [1:27:01<00:17,  1.71s/it, loss=0.121]\u001b[A\n",
      "Epoch 8: 100%|█████████████████████████████████████████████▊| 3046/3055 [1:27:02<00:15,  1.71s/it, loss=0.121]\u001b[A\n",
      "Epoch 8: 100%|█████████████████████████████████████████████▉| 3047/3055 [1:27:03<00:13,  1.71s/it, loss=0.121]\u001b[A\n",
      "Epoch 8: 100%|█████████████████████████████████████████████▉| 3048/3055 [1:27:04<00:11,  1.71s/it, loss=0.121]\u001b[A\n",
      "Epoch 8: 100%|█████████████████████████████████████████████▉| 3049/3055 [1:27:05<00:10,  1.71s/it, loss=0.121]\u001b[A\n",
      "Epoch 8: 100%|█████████████████████████████████████████████▉| 3050/3055 [1:27:07<00:08,  1.71s/it, loss=0.121]\u001b[A\n",
      "Epoch 8: 100%|█████████████████████████████████████████████▉| 3051/3055 [1:27:08<00:06,  1.71s/it, loss=0.121]\u001b[A\n",
      "Epoch 8: 100%|█████████████████████████████████████████████▉| 3052/3055 [1:27:09<00:05,  1.71s/it, loss=0.121]\u001b[A\n",
      "Epoch 8: 100%|█████████████████████████████████████████████▉| 3053/3055 [1:27:10<00:03,  1.71s/it, loss=0.121]\u001b[A\n",
      "Epoch 8: 100%|█████████████████████████████████████████████▉| 3054/3055 [1:27:11<00:01,  1.71s/it, loss=0.121]\u001b[A\n",
      "Epoch 8: 100%|██████████████████████████████████████████████| 3055/3055 [1:27:11<00:00,  1.71s/it, loss=0.121]\u001b[A\n",
      "Epoch 8: 100%|██████████████████████████████████████████████| 3055/3055 [1:27:11<00:00,  1.71s/it, loss=0.121]\u001b[A"
     ]
    },
    {
     "name": "stderr",
     "output_type": "stream",
     "text": [
      "Epoch 8, global step 27306: 'val_iou_loss' was not in top True\n"
     ]
    },
    {
     "name": "stdout",
     "output_type": "stream",
     "text": [
      "Epoch 9:  99%|█████████████████████████████████████████████▋| 3034/3055 [1:26:51<00:36,  1.72s/it, loss=0.124]\n",
      "Validation: 0it [00:00, ?it/s]\u001b[A\n",
      "Validation:   0%|                                                                      | 0/21 [00:00<?, ?it/s]\u001b[A\n",
      "Validation DataLoader 0:   0%|                                                         | 0/21 [00:00<?, ?it/s]\u001b[A\n",
      "Epoch 9:  99%|█████████████████████████████████████████████▋| 3035/3055 [1:26:52<00:34,  1.72s/it, loss=0.124]\u001b[A\n",
      "Epoch 9:  99%|█████████████████████████████████████████████▋| 3036/3055 [1:26:53<00:32,  1.72s/it, loss=0.124]\u001b[A\n",
      "Epoch 9:  99%|█████████████████████████████████████████████▋| 3037/3055 [1:26:54<00:30,  1.72s/it, loss=0.124]\u001b[A\n",
      "Epoch 9:  99%|█████████████████████████████████████████████▋| 3038/3055 [1:26:55<00:29,  1.72s/it, loss=0.124]\u001b[A\n",
      "Epoch 9:  99%|█████████████████████████████████████████████▊| 3039/3055 [1:26:56<00:27,  1.72s/it, loss=0.124]\u001b[A\n",
      "Epoch 9: 100%|█████████████████████████████████████████████▊| 3040/3055 [1:26:57<00:25,  1.72s/it, loss=0.124]\u001b[A\n",
      "Epoch 9: 100%|█████████████████████████████████████████████▊| 3041/3055 [1:26:58<00:24,  1.72s/it, loss=0.124]\u001b[A\n",
      "Epoch 9: 100%|█████████████████████████████████████████████▊| 3042/3055 [1:26:59<00:22,  1.72s/it, loss=0.124]\u001b[A\n",
      "Epoch 9: 100%|█████████████████████████████████████████████▊| 3043/3055 [1:27:00<00:20,  1.72s/it, loss=0.124]\u001b[A\n",
      "Epoch 9: 100%|█████████████████████████████████████████████▊| 3044/3055 [1:27:01<00:18,  1.72s/it, loss=0.124]\u001b[A\n",
      "Epoch 9: 100%|█████████████████████████████████████████████▊| 3045/3055 [1:27:02<00:17,  1.72s/it, loss=0.124]\u001b[A\n",
      "Epoch 9: 100%|█████████████████████████████████████████████▊| 3046/3055 [1:27:03<00:15,  1.71s/it, loss=0.124]\u001b[A\n",
      "Epoch 9: 100%|█████████████████████████████████████████████▉| 3047/3055 [1:27:04<00:13,  1.71s/it, loss=0.124]\u001b[A\n",
      "Epoch 9: 100%|█████████████████████████████████████████████▉| 3048/3055 [1:27:05<00:12,  1.71s/it, loss=0.124]\u001b[A\n",
      "Epoch 9: 100%|█████████████████████████████████████████████▉| 3049/3055 [1:27:06<00:10,  1.71s/it, loss=0.124]\u001b[A\n",
      "Epoch 9: 100%|█████████████████████████████████████████████▉| 3050/3055 [1:27:08<00:08,  1.71s/it, loss=0.124]\u001b[A\n",
      "Epoch 9: 100%|█████████████████████████████████████████████▉| 3051/3055 [1:27:09<00:06,  1.71s/it, loss=0.124]\u001b[A\n",
      "Epoch 9: 100%|█████████████████████████████████████████████▉| 3052/3055 [1:27:10<00:05,  1.71s/it, loss=0.124]\u001b[A\n",
      "Epoch 9: 100%|█████████████████████████████████████████████▉| 3053/3055 [1:27:11<00:03,  1.71s/it, loss=0.124]\u001b[A\n",
      "Epoch 9: 100%|█████████████████████████████████████████████▉| 3054/3055 [1:27:12<00:01,  1.71s/it, loss=0.124]\u001b[A\n",
      "Epoch 9: 100%|██████████████████████████████████████████████| 3055/3055 [1:27:12<00:00,  1.71s/it, loss=0.124]\u001b[A\n",
      "Epoch 9: 100%|██████████████████████████████████████████████| 3055/3055 [1:27:12<00:00,  1.71s/it, loss=0.124]\u001b[A"
     ]
    },
    {
     "name": "stderr",
     "output_type": "stream",
     "text": [
      "Epoch 9, global step 30340: 'val_iou_loss' was not in top True\n"
     ]
    },
    {
     "name": "stdout",
     "output_type": "stream",
     "text": [
      "Epoch 00010: reducing learning rate of group 0 to 2.5000e-05.\n",
      "Epoch 10:  99%|████████████████████████████████████████████▋| 3034/3055 [1:27:02<00:36,  1.72s/it, loss=0.109]\n",
      "Validation: 0it [00:00, ?it/s]\u001b[A\n",
      "Validation:   0%|                                                                      | 0/21 [00:00<?, ?it/s]\u001b[A\n",
      "Validation DataLoader 0:   0%|                                                         | 0/21 [00:00<?, ?it/s]\u001b[A\n",
      "Epoch 10:  99%|████████████████████████████████████████████▋| 3035/3055 [1:27:03<00:34,  1.72s/it, loss=0.109]\u001b[A\n",
      "Epoch 10:  99%|████████████████████████████████████████████▋| 3036/3055 [1:27:04<00:32,  1.72s/it, loss=0.109]\u001b[A\n",
      "Epoch 10:  99%|████████████████████████████████████████████▋| 3037/3055 [1:27:05<00:30,  1.72s/it, loss=0.109]\u001b[A\n",
      "Epoch 10:  99%|████████████████████████████████████████████▋| 3038/3055 [1:27:06<00:29,  1.72s/it, loss=0.109]\u001b[A\n",
      "Epoch 10:  99%|████████████████████████████████████████████▊| 3039/3055 [1:27:07<00:27,  1.72s/it, loss=0.109]\u001b[A\n",
      "Epoch 10: 100%|████████████████████████████████████████████▊| 3040/3055 [1:27:08<00:25,  1.72s/it, loss=0.109]\u001b[A\n",
      "Epoch 10: 100%|████████████████████████████████████████████▊| 3041/3055 [1:27:09<00:24,  1.72s/it, loss=0.109]\u001b[A\n",
      "Epoch 10: 100%|████████████████████████████████████████████▊| 3042/3055 [1:27:10<00:22,  1.72s/it, loss=0.109]\u001b[A\n",
      "Epoch 10: 100%|████████████████████████████████████████████▊| 3043/3055 [1:27:11<00:20,  1.72s/it, loss=0.109]\u001b[A\n",
      "Epoch 10: 100%|████████████████████████████████████████████▊| 3044/3055 [1:27:12<00:18,  1.72s/it, loss=0.109]\u001b[A\n",
      "Epoch 10: 100%|████████████████████████████████████████████▊| 3045/3055 [1:27:14<00:17,  1.72s/it, loss=0.109]\u001b[A\n",
      "Epoch 10: 100%|████████████████████████████████████████████▊| 3046/3055 [1:27:15<00:15,  1.72s/it, loss=0.109]\u001b[A\n",
      "Epoch 10: 100%|████████████████████████████████████████████▉| 3047/3055 [1:27:16<00:13,  1.72s/it, loss=0.109]\u001b[A\n",
      "Epoch 10: 100%|████████████████████████████████████████████▉| 3048/3055 [1:27:17<00:12,  1.72s/it, loss=0.109]\u001b[A\n",
      "Epoch 10: 100%|████████████████████████████████████████████▉| 3049/3055 [1:27:18<00:10,  1.72s/it, loss=0.109]\u001b[A\n",
      "Epoch 10: 100%|████████████████████████████████████████████▉| 3050/3055 [1:27:19<00:08,  1.72s/it, loss=0.109]\u001b[A\n",
      "Epoch 10: 100%|████████████████████████████████████████████▉| 3051/3055 [1:27:20<00:06,  1.72s/it, loss=0.109]\u001b[A\n",
      "Epoch 10: 100%|████████████████████████████████████████████▉| 3052/3055 [1:27:21<00:05,  1.72s/it, loss=0.109]\u001b[A\n",
      "Epoch 10: 100%|████████████████████████████████████████████▉| 3053/3055 [1:27:22<00:03,  1.72s/it, loss=0.109]\u001b[A\n",
      "Epoch 10: 100%|████████████████████████████████████████████▉| 3054/3055 [1:27:23<00:01,  1.72s/it, loss=0.109]\u001b[A\n",
      "Epoch 10: 100%|█████████████████████████████████████████████| 3055/3055 [1:27:23<00:00,  1.72s/it, loss=0.109]\u001b[A\n",
      "Epoch 10: 100%|█████████████████████████████████████████████| 3055/3055 [1:27:23<00:00,  1.72s/it, loss=0.109]\u001b[A"
     ]
    },
    {
     "name": "stderr",
     "output_type": "stream",
     "text": [
      "Epoch 10, global step 33374: 'val_iou_loss' reached 0.25519 (best 0.25519), saving model to '/home/viplab/VipLabProjects/satellite-knowledge-distillation/train_models/training_flooding_bgri/checkpoint/epoch=10-step=33374.ckpt' as top True\n"
     ]
    },
    {
     "name": "stdout",
     "output_type": "stream",
     "text": [
      "Epoch 11:  99%|████████████████████████████████████████████▋| 3034/3055 [1:23:19<00:34,  1.65s/it, loss=0.116]\n",
      "Validation: 0it [00:00, ?it/s]\u001b[A\n",
      "Validation:   0%|                                                                      | 0/21 [00:00<?, ?it/s]\u001b[A\n",
      "Validation DataLoader 0:   0%|                                                         | 0/21 [00:00<?, ?it/s]\u001b[A\n",
      "Epoch 11:  99%|████████████████████████████████████████████▋| 3035/3055 [1:23:21<00:32,  1.65s/it, loss=0.116]\u001b[A\n",
      "Epoch 11:  99%|████████████████████████████████████████████▋| 3036/3055 [1:23:22<00:31,  1.65s/it, loss=0.116]\u001b[A\n",
      "Epoch 11:  99%|████████████████████████████████████████████▋| 3037/3055 [1:23:23<00:29,  1.65s/it, loss=0.116]\u001b[A\n",
      "Epoch 11:  99%|████████████████████████████████████████████▋| 3038/3055 [1:23:23<00:28,  1.65s/it, loss=0.116]\u001b[A\n",
      "Epoch 11:  99%|████████████████████████████████████████████▊| 3039/3055 [1:23:25<00:26,  1.65s/it, loss=0.116]\u001b[A\n",
      "Epoch 11: 100%|████████████████████████████████████████████▊| 3040/3055 [1:23:26<00:24,  1.65s/it, loss=0.116]\u001b[A\n",
      "Epoch 11: 100%|████████████████████████████████████████████▊| 3041/3055 [1:23:27<00:23,  1.65s/it, loss=0.116]\u001b[A\n",
      "Epoch 11: 100%|████████████████████████████████████████████▊| 3042/3055 [1:23:28<00:21,  1.65s/it, loss=0.116]\u001b[A\n",
      "Epoch 11: 100%|████████████████████████████████████████████▊| 3043/3055 [1:23:29<00:19,  1.65s/it, loss=0.116]\u001b[A\n",
      "Epoch 11: 100%|████████████████████████████████████████████▊| 3044/3055 [1:23:30<00:18,  1.65s/it, loss=0.116]\u001b[A\n",
      "Epoch 11: 100%|████████████████████████████████████████████▊| 3045/3055 [1:23:31<00:16,  1.65s/it, loss=0.116]\u001b[A\n",
      "Epoch 11: 100%|████████████████████████████████████████████▊| 3046/3055 [1:23:32<00:14,  1.65s/it, loss=0.116]\u001b[A\n",
      "Epoch 11: 100%|████████████████████████████████████████████▉| 3047/3055 [1:23:33<00:13,  1.65s/it, loss=0.116]\u001b[A\n",
      "Epoch 11: 100%|████████████████████████████████████████████▉| 3048/3055 [1:23:33<00:11,  1.65s/it, loss=0.116]\u001b[A\n",
      "Epoch 11: 100%|████████████████████████████████████████████▉| 3049/3055 [1:23:34<00:09,  1.64s/it, loss=0.116]\u001b[A\n",
      "Epoch 11: 100%|████████████████████████████████████████████▉| 3050/3055 [1:23:36<00:08,  1.64s/it, loss=0.116]\u001b[A\n",
      "Epoch 11: 100%|████████████████████████████████████████████▉| 3051/3055 [1:23:37<00:06,  1.64s/it, loss=0.116]\u001b[A\n",
      "Epoch 11: 100%|████████████████████████████████████████████▉| 3052/3055 [1:23:38<00:04,  1.64s/it, loss=0.116]\u001b[A\n",
      "Epoch 11: 100%|████████████████████████████████████████████▉| 3053/3055 [1:23:38<00:03,  1.64s/it, loss=0.116]\u001b[A\n",
      "Epoch 11: 100%|████████████████████████████████████████████▉| 3054/3055 [1:23:39<00:01,  1.64s/it, loss=0.116]\u001b[A\n",
      "Epoch 11: 100%|█████████████████████████████████████████████| 3055/3055 [1:23:40<00:00,  1.64s/it, loss=0.116]\u001b[A\n",
      "Epoch 11: 100%|█████████████████████████████████████████████| 3055/3055 [1:23:40<00:00,  1.64s/it, loss=0.116]\u001b[A"
     ]
    },
    {
     "name": "stderr",
     "output_type": "stream",
     "text": [
      "Epoch 11, global step 36408: 'val_iou_loss' was not in top True\n"
     ]
    },
    {
     "name": "stdout",
     "output_type": "stream",
     "text": [
      "Epoch 12:  99%|████████████████████████████████████████████▋| 3034/3055 [1:24:13<00:34,  1.67s/it, loss=0.113]\n",
      "Validation: 0it [00:00, ?it/s]\u001b[A\n",
      "Validation:   0%|                                                                      | 0/21 [00:00<?, ?it/s]\u001b[A\n",
      "Validation DataLoader 0:   0%|                                                         | 0/21 [00:00<?, ?it/s]\u001b[A\n",
      "Epoch 12:  99%|████████████████████████████████████████████▋| 3035/3055 [1:24:15<00:33,  1.67s/it, loss=0.113]\u001b[A\n",
      "Epoch 12:  99%|████████████████████████████████████████████▋| 3036/3055 [1:24:16<00:31,  1.67s/it, loss=0.113]\u001b[A\n",
      "Epoch 12:  99%|████████████████████████████████████████████▋| 3037/3055 [1:24:17<00:29,  1.67s/it, loss=0.113]\u001b[A\n",
      "Epoch 12:  99%|████████████████████████████████████████████▋| 3038/3055 [1:24:18<00:28,  1.66s/it, loss=0.113]\u001b[A\n",
      "Epoch 12:  99%|████████████████████████████████████████████▊| 3039/3055 [1:24:19<00:26,  1.66s/it, loss=0.113]\u001b[A\n",
      "Epoch 12: 100%|████████████████████████████████████████████▊| 3040/3055 [1:24:20<00:24,  1.66s/it, loss=0.113]\u001b[A\n",
      "Epoch 12: 100%|████████████████████████████████████████████▊| 3041/3055 [1:24:21<00:23,  1.66s/it, loss=0.113]\u001b[A\n",
      "Epoch 12: 100%|████████████████████████████████████████████▊| 3042/3055 [1:24:22<00:21,  1.66s/it, loss=0.113]\u001b[A\n",
      "Epoch 12: 100%|████████████████████████████████████████████▊| 3043/3055 [1:24:23<00:19,  1.66s/it, loss=0.113]\u001b[A\n",
      "Epoch 12: 100%|████████████████████████████████████████████▊| 3044/3055 [1:24:24<00:18,  1.66s/it, loss=0.113]\u001b[A\n",
      "Epoch 12: 100%|████████████████████████████████████████████▊| 3045/3055 [1:24:25<00:16,  1.66s/it, loss=0.113]\u001b[A\n",
      "Epoch 12: 100%|████████████████████████████████████████████▊| 3046/3055 [1:24:26<00:14,  1.66s/it, loss=0.113]\u001b[A\n",
      "Epoch 12: 100%|████████████████████████████████████████████▉| 3047/3055 [1:24:27<00:13,  1.66s/it, loss=0.113]\u001b[A\n",
      "Epoch 12: 100%|████████████████████████████████████████████▉| 3048/3055 [1:24:28<00:11,  1.66s/it, loss=0.113]\u001b[A\n",
      "Epoch 12: 100%|████████████████████████████████████████████▉| 3049/3055 [1:24:29<00:09,  1.66s/it, loss=0.113]\u001b[A\n",
      "Epoch 12: 100%|████████████████████████████████████████████▉| 3050/3055 [1:24:30<00:08,  1.66s/it, loss=0.113]\u001b[A\n",
      "Epoch 12: 100%|████████████████████████████████████████████▉| 3051/3055 [1:24:31<00:06,  1.66s/it, loss=0.113]\u001b[A\n",
      "Epoch 12: 100%|████████████████████████████████████████████▉| 3052/3055 [1:24:32<00:04,  1.66s/it, loss=0.113]\u001b[A\n",
      "Epoch 12: 100%|████████████████████████████████████████████▉| 3053/3055 [1:24:33<00:03,  1.66s/it, loss=0.113]\u001b[A\n",
      "Epoch 12: 100%|████████████████████████████████████████████▉| 3054/3055 [1:24:34<00:01,  1.66s/it, loss=0.113]\u001b[A\n",
      "Epoch 12: 100%|█████████████████████████████████████████████| 3055/3055 [1:24:34<00:00,  1.66s/it, loss=0.113]\u001b[A\n",
      "Epoch 12: 100%|█████████████████████████████████████████████| 3055/3055 [1:24:34<00:00,  1.66s/it, loss=0.113]\u001b[A"
     ]
    },
    {
     "name": "stderr",
     "output_type": "stream",
     "text": [
      "Epoch 12, global step 39442: 'val_iou_loss' reached 0.25513 (best 0.25513), saving model to '/home/viplab/VipLabProjects/satellite-knowledge-distillation/train_models/training_flooding_bgri/checkpoint/epoch=12-step=39442.ckpt' as top True\n"
     ]
    },
    {
     "name": "stdout",
     "output_type": "stream",
     "text": [
      "Epoch 13:  99%|████████████████████████████████████████████▋| 3034/3055 [1:24:52<00:35,  1.68s/it, loss=0.118]\n",
      "Validation: 0it [00:00, ?it/s]\u001b[A\n",
      "Validation:   0%|                                                                      | 0/21 [00:00<?, ?it/s]\u001b[A\n",
      "Validation DataLoader 0:   0%|                                                         | 0/21 [00:00<?, ?it/s]\u001b[A\n",
      "Epoch 13:  99%|████████████████████████████████████████████▋| 3035/3055 [1:24:53<00:33,  1.68s/it, loss=0.118]\u001b[A\n",
      "Epoch 13:  99%|████████████████████████████████████████████▋| 3036/3055 [1:24:54<00:31,  1.68s/it, loss=0.118]\u001b[A\n",
      "Epoch 13:  99%|████████████████████████████████████████████▋| 3037/3055 [1:24:55<00:30,  1.68s/it, loss=0.118]\u001b[A\n",
      "Epoch 13:  99%|████████████████████████████████████████████▋| 3038/3055 [1:24:56<00:28,  1.68s/it, loss=0.118]\u001b[A\n",
      "Epoch 13:  99%|████████████████████████████████████████████▊| 3039/3055 [1:24:57<00:26,  1.68s/it, loss=0.118]\u001b[A\n",
      "Epoch 13: 100%|████████████████████████████████████████████▊| 3040/3055 [1:24:58<00:25,  1.68s/it, loss=0.118]\u001b[A\n",
      "Epoch 13: 100%|████████████████████████████████████████████▊| 3041/3055 [1:24:59<00:23,  1.68s/it, loss=0.118]\u001b[A\n",
      "Epoch 13: 100%|████████████████████████████████████████████▊| 3042/3055 [1:25:00<00:21,  1.68s/it, loss=0.118]\u001b[A\n",
      "Epoch 13: 100%|████████████████████████████████████████████▊| 3043/3055 [1:25:01<00:20,  1.68s/it, loss=0.118]\u001b[A\n",
      "Epoch 13: 100%|████████████████████████████████████████████▊| 3044/3055 [1:25:02<00:18,  1.68s/it, loss=0.118]\u001b[A\n",
      "Epoch 13: 100%|████████████████████████████████████████████▊| 3045/3055 [1:25:04<00:16,  1.68s/it, loss=0.118]\u001b[A\n",
      "Epoch 13: 100%|████████████████████████████████████████████▊| 3046/3055 [1:25:05<00:15,  1.68s/it, loss=0.118]\u001b[A\n",
      "Epoch 13: 100%|████████████████████████████████████████████▉| 3047/3055 [1:25:06<00:13,  1.68s/it, loss=0.118]\u001b[A\n",
      "Epoch 13: 100%|████████████████████████████████████████████▉| 3048/3055 [1:25:07<00:11,  1.68s/it, loss=0.118]\u001b[A\n",
      "Epoch 13: 100%|████████████████████████████████████████████▉| 3049/3055 [1:25:08<00:10,  1.68s/it, loss=0.118]\u001b[A\n",
      "Epoch 13: 100%|████████████████████████████████████████████▉| 3050/3055 [1:25:09<00:08,  1.68s/it, loss=0.118]\u001b[A\n",
      "Epoch 13: 100%|████████████████████████████████████████████▉| 3051/3055 [1:25:10<00:06,  1.67s/it, loss=0.118]\u001b[A\n",
      "Epoch 13: 100%|████████████████████████████████████████████▉| 3052/3055 [1:25:11<00:05,  1.67s/it, loss=0.118]\u001b[A\n",
      "Epoch 13: 100%|████████████████████████████████████████████▉| 3053/3055 [1:25:12<00:03,  1.67s/it, loss=0.118]\u001b[A\n",
      "Epoch 13: 100%|████████████████████████████████████████████▉| 3054/3055 [1:25:13<00:01,  1.67s/it, loss=0.118]\u001b[A\n",
      "Epoch 13: 100%|█████████████████████████████████████████████| 3055/3055 [1:25:13<00:00,  1.67s/it, loss=0.118]\u001b[A\n",
      "Epoch 13: 100%|█████████████████████████████████████████████| 3055/3055 [1:25:13<00:00,  1.67s/it, loss=0.118]\u001b[A"
     ]
    },
    {
     "name": "stderr",
     "output_type": "stream",
     "text": [
      "Epoch 13, global step 42476: 'val_iou_loss' was not in top True\n"
     ]
    },
    {
     "name": "stdout",
     "output_type": "stream",
     "text": [
      "Epoch 14:  99%|█████████████████████████████████████████████▋| 3034/3055 [1:25:27<00:35,  1.69s/it, loss=0.11]\n",
      "Validation: 0it [00:00, ?it/s]\u001b[A\n",
      "Validation:   0%|                                                                      | 0/21 [00:00<?, ?it/s]\u001b[A\n",
      "Validation DataLoader 0:   0%|                                                         | 0/21 [00:00<?, ?it/s]\u001b[A\n",
      "Epoch 14:  99%|█████████████████████████████████████████████▋| 3035/3055 [1:25:28<00:33,  1.69s/it, loss=0.11]\u001b[A\n",
      "Epoch 14:  99%|█████████████████████████████████████████████▋| 3036/3055 [1:25:29<00:32,  1.69s/it, loss=0.11]\u001b[A\n",
      "Epoch 14:  99%|█████████████████████████████████████████████▋| 3037/3055 [1:25:30<00:30,  1.69s/it, loss=0.11]\u001b[A\n",
      "Epoch 14:  99%|█████████████████████████████████████████████▋| 3038/3055 [1:25:31<00:28,  1.69s/it, loss=0.11]\u001b[A\n",
      "Epoch 14:  99%|█████████████████████████████████████████████▊| 3039/3055 [1:25:32<00:27,  1.69s/it, loss=0.11]\u001b[A\n",
      "Epoch 14: 100%|█████████████████████████████████████████████▊| 3040/3055 [1:25:33<00:25,  1.69s/it, loss=0.11]\u001b[A\n",
      "Epoch 14: 100%|█████████████████████████████████████████████▊| 3041/3055 [1:25:34<00:23,  1.69s/it, loss=0.11]\u001b[A\n",
      "Epoch 14: 100%|█████████████████████████████████████████████▊| 3042/3055 [1:25:35<00:21,  1.69s/it, loss=0.11]\u001b[A\n",
      "Epoch 14: 100%|█████████████████████████████████████████████▊| 3043/3055 [1:25:36<00:20,  1.69s/it, loss=0.11]\u001b[A\n",
      "Epoch 14: 100%|█████████████████████████████████████████████▊| 3044/3055 [1:25:37<00:18,  1.69s/it, loss=0.11]\u001b[A\n",
      "Epoch 14: 100%|█████████████████████████████████████████████▊| 3045/3055 [1:25:38<00:16,  1.69s/it, loss=0.11]\u001b[A\n",
      "Epoch 14: 100%|█████████████████████████████████████████████▊| 3046/3055 [1:25:39<00:15,  1.69s/it, loss=0.11]\u001b[A\n",
      "Epoch 14: 100%|█████████████████████████████████████████████▉| 3047/3055 [1:25:40<00:13,  1.69s/it, loss=0.11]\u001b[A\n",
      "Epoch 14: 100%|█████████████████████████████████████████████▉| 3048/3055 [1:25:41<00:11,  1.69s/it, loss=0.11]\u001b[A\n",
      "Epoch 14: 100%|█████████████████████████████████████████████▉| 3049/3055 [1:25:43<00:10,  1.69s/it, loss=0.11]\u001b[A\n",
      "Epoch 14: 100%|█████████████████████████████████████████████▉| 3050/3055 [1:25:44<00:08,  1.69s/it, loss=0.11]\u001b[A\n",
      "Epoch 14: 100%|█████████████████████████████████████████████▉| 3051/3055 [1:25:45<00:06,  1.69s/it, loss=0.11]\u001b[A\n",
      "Epoch 14: 100%|█████████████████████████████████████████████▉| 3052/3055 [1:25:46<00:05,  1.69s/it, loss=0.11]\u001b[A\n",
      "Epoch 14: 100%|█████████████████████████████████████████████▉| 3053/3055 [1:25:47<00:03,  1.69s/it, loss=0.11]\u001b[A\n",
      "Epoch 14: 100%|█████████████████████████████████████████████▉| 3054/3055 [1:25:48<00:01,  1.69s/it, loss=0.11]\u001b[A\n",
      "Epoch 14: 100%|██████████████████████████████████████████████| 3055/3055 [1:25:48<00:00,  1.69s/it, loss=0.11]\u001b[A\n",
      "Epoch 14: 100%|██████████████████████████████████████████████| 3055/3055 [1:25:48<00:00,  1.69s/it, loss=0.11]\u001b[A"
     ]
    },
    {
     "name": "stderr",
     "output_type": "stream",
     "text": [
      "Epoch 14, global step 45510: 'val_iou_loss' reached 0.25217 (best 0.25217), saving model to '/home/viplab/VipLabProjects/satellite-knowledge-distillation/train_models/training_flooding_bgri/checkpoint/epoch=14-step=45510.ckpt' as top True\n"
     ]
    },
    {
     "name": "stdout",
     "output_type": "stream",
     "text": [
      "Epoch 15:  99%|████████████████████████████████████████████▋| 3034/3055 [1:26:45<00:36,  1.72s/it, loss=0.117]\n",
      "Validation: 0it [00:00, ?it/s]\u001b[A\n",
      "Validation:   0%|                                                                      | 0/21 [00:00<?, ?it/s]\u001b[A\n",
      "Validation DataLoader 0:   0%|                                                         | 0/21 [00:00<?, ?it/s]\u001b[A\n",
      "Epoch 15:  99%|████████████████████████████████████████████▋| 3035/3055 [1:26:46<00:34,  1.72s/it, loss=0.117]\u001b[A\n",
      "Epoch 15:  99%|████████████████████████████████████████████▋| 3036/3055 [1:26:47<00:32,  1.72s/it, loss=0.117]\u001b[A\n",
      "Epoch 15:  99%|████████████████████████████████████████████▋| 3037/3055 [1:26:48<00:30,  1.71s/it, loss=0.117]\u001b[A\n",
      "Epoch 15:  99%|████████████████████████████████████████████▋| 3038/3055 [1:26:49<00:29,  1.71s/it, loss=0.117]\u001b[A\n",
      "Epoch 15:  99%|████████████████████████████████████████████▊| 3039/3055 [1:26:50<00:27,  1.71s/it, loss=0.117]\u001b[A\n",
      "Epoch 15: 100%|████████████████████████████████████████████▊| 3040/3055 [1:26:51<00:25,  1.71s/it, loss=0.117]\u001b[A\n",
      "Epoch 15: 100%|████████████████████████████████████████████▊| 3041/3055 [1:26:52<00:23,  1.71s/it, loss=0.117]\u001b[A\n",
      "Epoch 15: 100%|████████████████████████████████████████████▊| 3042/3055 [1:26:53<00:22,  1.71s/it, loss=0.117]\u001b[A\n",
      "Epoch 15: 100%|████████████████████████████████████████████▊| 3043/3055 [1:26:54<00:20,  1.71s/it, loss=0.117]\u001b[A\n",
      "Epoch 15: 100%|████████████████████████████████████████████▊| 3044/3055 [1:26:55<00:18,  1.71s/it, loss=0.117]\u001b[A\n",
      "Epoch 15: 100%|████████████████████████████████████████████▊| 3045/3055 [1:26:56<00:17,  1.71s/it, loss=0.117]\u001b[A\n",
      "Epoch 15: 100%|████████████████████████████████████████████▊| 3046/3055 [1:26:57<00:15,  1.71s/it, loss=0.117]\u001b[A\n",
      "Epoch 15: 100%|████████████████████████████████████████████▉| 3047/3055 [1:26:58<00:13,  1.71s/it, loss=0.117]\u001b[A\n",
      "Epoch 15: 100%|████████████████████████████████████████████▉| 3048/3055 [1:26:59<00:11,  1.71s/it, loss=0.117]\u001b[A\n",
      "Epoch 15: 100%|████████████████████████████████████████████▉| 3049/3055 [1:27:00<00:10,  1.71s/it, loss=0.117]\u001b[A\n",
      "Epoch 15: 100%|████████████████████████████████████████████▉| 3050/3055 [1:27:01<00:08,  1.71s/it, loss=0.117]\u001b[A\n",
      "Epoch 15: 100%|████████████████████████████████████████████▉| 3051/3055 [1:27:02<00:06,  1.71s/it, loss=0.117]\u001b[A\n",
      "Epoch 15: 100%|████████████████████████████████████████████▉| 3052/3055 [1:27:03<00:05,  1.71s/it, loss=0.117]\u001b[A\n",
      "Epoch 15: 100%|████████████████████████████████████████████▉| 3053/3055 [1:27:04<00:03,  1.71s/it, loss=0.117]\u001b[A\n",
      "Epoch 15: 100%|████████████████████████████████████████████▉| 3054/3055 [1:27:05<00:01,  1.71s/it, loss=0.117]\u001b[A\n",
      "Epoch 15: 100%|█████████████████████████████████████████████| 3055/3055 [1:27:05<00:00,  1.71s/it, loss=0.117]\u001b[A\n",
      "Epoch 15: 100%|█████████████████████████████████████████████| 3055/3055 [1:27:05<00:00,  1.71s/it, loss=0.117]\u001b[A"
     ]
    },
    {
     "name": "stderr",
     "output_type": "stream",
     "text": [
      "Epoch 15, global step 48544: 'val_iou_loss' was not in top True\n"
     ]
    },
    {
     "name": "stdout",
     "output_type": "stream",
     "text": [
      "Epoch 16:  99%|████████████████████████████████████████████▋| 3034/3055 [1:36:10<00:39,  1.90s/it, loss=0.113]\n",
      "Validation: 0it [00:00, ?it/s]\u001b[A\n",
      "Validation:   0%|                                                                      | 0/21 [00:00<?, ?it/s]\u001b[A\n",
      "Validation DataLoader 0:   0%|                                                         | 0/21 [00:00<?, ?it/s]\u001b[A\n",
      "Epoch 16:  99%|████████████████████████████████████████████▋| 3035/3055 [1:36:11<00:38,  1.90s/it, loss=0.113]\u001b[A\n",
      "Epoch 16:  99%|████████████████████████████████████████████▋| 3036/3055 [1:36:12<00:36,  1.90s/it, loss=0.113]\u001b[A\n",
      "Epoch 16:  99%|████████████████████████████████████████████▋| 3037/3055 [1:36:13<00:34,  1.90s/it, loss=0.113]\u001b[A\n",
      "Epoch 16:  99%|████████████████████████████████████████████▋| 3038/3055 [1:36:14<00:32,  1.90s/it, loss=0.113]\u001b[A\n",
      "Epoch 16:  99%|████████████████████████████████████████████▊| 3039/3055 [1:36:15<00:30,  1.90s/it, loss=0.113]\u001b[A\n",
      "Epoch 16: 100%|████████████████████████████████████████████▊| 3040/3055 [1:36:16<00:28,  1.90s/it, loss=0.113]\u001b[A\n",
      "Epoch 16: 100%|████████████████████████████████████████████▊| 3041/3055 [1:36:18<00:26,  1.90s/it, loss=0.113]\u001b[A\n",
      "Epoch 16: 100%|████████████████████████████████████████████▊| 3042/3055 [1:36:19<00:24,  1.90s/it, loss=0.113]\u001b[A\n",
      "Epoch 16: 100%|████████████████████████████████████████████▊| 3043/3055 [1:36:20<00:22,  1.90s/it, loss=0.113]\u001b[A\n",
      "Epoch 16: 100%|████████████████████████████████████████████▊| 3044/3055 [1:36:21<00:20,  1.90s/it, loss=0.113]\u001b[A\n",
      "Epoch 16: 100%|████████████████████████████████████████████▊| 3045/3055 [1:36:22<00:18,  1.90s/it, loss=0.113]\u001b[A\n",
      "Epoch 16: 100%|████████████████████████████████████████████▊| 3046/3055 [1:36:23<00:17,  1.90s/it, loss=0.113]\u001b[A\n",
      "Epoch 16: 100%|████████████████████████████████████████████▉| 3047/3055 [1:36:25<00:15,  1.90s/it, loss=0.113]\u001b[A\n",
      "Epoch 16: 100%|████████████████████████████████████████████▉| 3048/3055 [1:36:26<00:13,  1.90s/it, loss=0.113]\u001b[A\n",
      "Epoch 16: 100%|████████████████████████████████████████████▉| 3049/3055 [1:36:27<00:11,  1.90s/it, loss=0.113]\u001b[A\n",
      "Epoch 16: 100%|████████████████████████████████████████████▉| 3050/3055 [1:36:28<00:09,  1.90s/it, loss=0.113]\u001b[A\n",
      "Epoch 16: 100%|████████████████████████████████████████████▉| 3051/3055 [1:36:29<00:07,  1.90s/it, loss=0.113]\u001b[A\n",
      "Epoch 16: 100%|████████████████████████████████████████████▉| 3052/3055 [1:36:30<00:05,  1.90s/it, loss=0.113]\u001b[A\n",
      "Epoch 16: 100%|████████████████████████████████████████████▉| 3053/3055 [1:36:31<00:03,  1.90s/it, loss=0.113]\u001b[A\n",
      "Epoch 16: 100%|████████████████████████████████████████████▉| 3054/3055 [1:36:32<00:01,  1.90s/it, loss=0.113]\u001b[A\n",
      "Epoch 16: 100%|█████████████████████████████████████████████| 3055/3055 [1:36:32<00:00,  1.90s/it, loss=0.113]\u001b[A\n",
      "Epoch 16: 100%|█████████████████████████████████████████████| 3055/3055 [1:36:32<00:00,  1.90s/it, loss=0.113]\u001b[A"
     ]
    },
    {
     "name": "stderr",
     "output_type": "stream",
     "text": [
      "Epoch 16, global step 51578: 'val_iou_loss' was not in top True\n"
     ]
    },
    {
     "name": "stdout",
     "output_type": "stream",
     "text": [
      "Epoch 17:  99%|█████████████████████████████████████████████▋| 3034/3055 [1:39:30<00:41,  1.97s/it, loss=0.11]\n",
      "Validation: 0it [00:00, ?it/s]\u001b[A\n",
      "Validation:   0%|                                                                      | 0/21 [00:00<?, ?it/s]\u001b[A\n",
      "Validation DataLoader 0:   0%|                                                         | 0/21 [00:00<?, ?it/s]\u001b[A\n",
      "Epoch 17:  99%|█████████████████████████████████████████████▋| 3035/3055 [1:39:31<00:39,  1.97s/it, loss=0.11]\u001b[A\n",
      "Epoch 17:  99%|█████████████████████████████████████████████▋| 3036/3055 [1:39:32<00:37,  1.97s/it, loss=0.11]\u001b[A\n",
      "Epoch 17:  99%|█████████████████████████████████████████████▋| 3037/3055 [1:39:33<00:35,  1.97s/it, loss=0.11]\u001b[A\n",
      "Epoch 17:  99%|█████████████████████████████████████████████▋| 3038/3055 [1:39:34<00:33,  1.97s/it, loss=0.11]\u001b[A\n",
      "Epoch 17:  99%|█████████████████████████████████████████████▊| 3039/3055 [1:39:35<00:31,  1.97s/it, loss=0.11]\u001b[A\n",
      "Epoch 17: 100%|█████████████████████████████████████████████▊| 3040/3055 [1:39:36<00:29,  1.97s/it, loss=0.11]\u001b[A\n",
      "Epoch 17: 100%|█████████████████████████████████████████████▊| 3041/3055 [1:39:38<00:27,  1.97s/it, loss=0.11]\u001b[A\n",
      "Epoch 17: 100%|█████████████████████████████████████████████▊| 3042/3055 [1:39:39<00:25,  1.97s/it, loss=0.11]\u001b[A\n",
      "Epoch 17: 100%|█████████████████████████████████████████████▊| 3043/3055 [1:39:40<00:23,  1.97s/it, loss=0.11]\u001b[A\n",
      "Epoch 17: 100%|█████████████████████████████████████████████▊| 3044/3055 [1:39:41<00:21,  1.96s/it, loss=0.11]\u001b[A\n",
      "Epoch 17: 100%|█████████████████████████████████████████████▊| 3045/3055 [1:39:42<00:19,  1.96s/it, loss=0.11]\u001b[A\n",
      "Epoch 17: 100%|█████████████████████████████████████████████▊| 3046/3055 [1:39:44<00:17,  1.96s/it, loss=0.11]\u001b[A\n",
      "Epoch 17: 100%|█████████████████████████████████████████████▉| 3047/3055 [1:39:45<00:15,  1.96s/it, loss=0.11]\u001b[A\n",
      "Epoch 17: 100%|█████████████████████████████████████████████▉| 3048/3055 [1:39:46<00:13,  1.96s/it, loss=0.11]\u001b[A\n",
      "Epoch 17: 100%|█████████████████████████████████████████████▉| 3049/3055 [1:39:47<00:11,  1.96s/it, loss=0.11]\u001b[A\n",
      "Epoch 17: 100%|█████████████████████████████████████████████▉| 3050/3055 [1:39:48<00:09,  1.96s/it, loss=0.11]\u001b[A\n",
      "Epoch 17: 100%|█████████████████████████████████████████████▉| 3051/3055 [1:39:49<00:07,  1.96s/it, loss=0.11]\u001b[A\n",
      "Epoch 17: 100%|█████████████████████████████████████████████▉| 3052/3055 [1:39:51<00:05,  1.96s/it, loss=0.11]\u001b[A\n",
      "Epoch 17: 100%|█████████████████████████████████████████████▉| 3053/3055 [1:39:52<00:03,  1.96s/it, loss=0.11]\u001b[A\n",
      "Epoch 17: 100%|█████████████████████████████████████████████▉| 3054/3055 [1:39:53<00:01,  1.96s/it, loss=0.11]\u001b[A\n",
      "Epoch 17: 100%|██████████████████████████████████████████████| 3055/3055 [1:39:53<00:00,  1.96s/it, loss=0.11]\u001b[A\n",
      "Epoch 17: 100%|██████████████████████████████████████████████| 3055/3055 [1:39:53<00:00,  1.96s/it, loss=0.11]\u001b[A"
     ]
    },
    {
     "name": "stderr",
     "output_type": "stream",
     "text": [
      "Epoch 17, global step 54612: 'val_iou_loss' reached 0.24514 (best 0.24514), saving model to '/home/viplab/VipLabProjects/satellite-knowledge-distillation/train_models/training_flooding_bgri/checkpoint/epoch=17-step=54612.ckpt' as top True\n"
     ]
    },
    {
     "name": "stdout",
     "output_type": "stream",
     "text": [
      "Epoch 18:  99%|████████████████████████████████████████████▋| 3034/3055 [1:36:48<00:40,  1.91s/it, loss=0.109]\n",
      "Validation: 0it [00:00, ?it/s]\u001b[A\n",
      "Validation:   0%|                                                                      | 0/21 [00:00<?, ?it/s]\u001b[A\n",
      "Validation DataLoader 0:   0%|                                                         | 0/21 [00:00<?, ?it/s]\u001b[A\n",
      "Epoch 18:  99%|████████████████████████████████████████████▋| 3035/3055 [1:36:49<00:38,  1.91s/it, loss=0.109]\u001b[A\n",
      "Epoch 18:  99%|████████████████████████████████████████████▋| 3036/3055 [1:36:50<00:36,  1.91s/it, loss=0.109]\u001b[A\n",
      "Epoch 18:  99%|████████████████████████████████████████████▋| 3037/3055 [1:36:51<00:34,  1.91s/it, loss=0.109]\u001b[A\n",
      "Epoch 18:  99%|████████████████████████████████████████████▋| 3038/3055 [1:36:52<00:32,  1.91s/it, loss=0.109]\u001b[A\n",
      "Epoch 18:  99%|████████████████████████████████████████████▊| 3039/3055 [1:36:54<00:30,  1.91s/it, loss=0.109]\u001b[A\n",
      "Epoch 18: 100%|████████████████████████████████████████████▊| 3040/3055 [1:36:55<00:28,  1.91s/it, loss=0.109]\u001b[A\n",
      "Epoch 18: 100%|████████████████████████████████████████████▊| 3041/3055 [1:36:56<00:26,  1.91s/it, loss=0.109]\u001b[A\n",
      "Epoch 18: 100%|████████████████████████████████████████████▊| 3042/3055 [1:36:57<00:24,  1.91s/it, loss=0.109]\u001b[A\n",
      "Epoch 18: 100%|████████████████████████████████████████████▊| 3043/3055 [1:36:59<00:22,  1.91s/it, loss=0.109]\u001b[A\n",
      "Epoch 18: 100%|████████████████████████████████████████████▊| 3044/3055 [1:37:00<00:21,  1.91s/it, loss=0.109]\u001b[A\n",
      "Epoch 18: 100%|████████████████████████████████████████████▊| 3045/3055 [1:37:01<00:19,  1.91s/it, loss=0.109]\u001b[A\n",
      "Epoch 18: 100%|████████████████████████████████████████████▊| 3046/3055 [1:37:02<00:17,  1.91s/it, loss=0.109]\u001b[A\n",
      "Epoch 18: 100%|████████████████████████████████████████████▉| 3047/3055 [1:37:03<00:15,  1.91s/it, loss=0.109]\u001b[A\n",
      "Epoch 18: 100%|████████████████████████████████████████████▉| 3048/3055 [1:37:04<00:13,  1.91s/it, loss=0.109]\u001b[A\n",
      "Epoch 18: 100%|████████████████████████████████████████████▉| 3049/3055 [1:37:06<00:11,  1.91s/it, loss=0.109]\u001b[A\n",
      "Epoch 18: 100%|████████████████████████████████████████████▉| 3050/3055 [1:37:07<00:09,  1.91s/it, loss=0.109]\u001b[A\n",
      "Epoch 18: 100%|████████████████████████████████████████████▉| 3051/3055 [1:37:08<00:07,  1.91s/it, loss=0.109]\u001b[A\n",
      "Epoch 18: 100%|████████████████████████████████████████████▉| 3052/3055 [1:37:09<00:05,  1.91s/it, loss=0.109]\u001b[A\n",
      "Epoch 18: 100%|████████████████████████████████████████████▉| 3053/3055 [1:37:10<00:03,  1.91s/it, loss=0.109]\u001b[A\n",
      "Epoch 18: 100%|████████████████████████████████████████████▉| 3054/3055 [1:37:11<00:01,  1.91s/it, loss=0.109]\u001b[A\n",
      "Epoch 18: 100%|█████████████████████████████████████████████| 3055/3055 [1:37:11<00:00,  1.91s/it, loss=0.109]\u001b[A\n",
      "Epoch 18: 100%|█████████████████████████████████████████████| 3055/3055 [1:37:11<00:00,  1.91s/it, loss=0.109]\u001b[A"
     ]
    },
    {
     "name": "stderr",
     "output_type": "stream",
     "text": [
      "Epoch 18, global step 57646: 'val_iou_loss' was not in top True\n"
     ]
    },
    {
     "name": "stdout",
     "output_type": "stream",
     "text": [
      "Epoch 19:  99%|████████████████████████████████████████████▋| 3034/3055 [1:30:38<00:37,  1.79s/it, loss=0.112]\n",
      "Validation: 0it [00:00, ?it/s]\u001b[A\n",
      "Validation:   0%|                                                                      | 0/21 [00:00<?, ?it/s]\u001b[A\n",
      "Validation DataLoader 0:   0%|                                                         | 0/21 [00:00<?, ?it/s]\u001b[A\n",
      "Epoch 19:  99%|████████████████████████████████████████████▋| 3035/3055 [1:30:40<00:35,  1.79s/it, loss=0.112]\u001b[A\n",
      "Epoch 19:  99%|████████████████████████████████████████████▋| 3036/3055 [1:30:41<00:34,  1.79s/it, loss=0.112]\u001b[A\n",
      "Epoch 19:  99%|████████████████████████████████████████████▋| 3037/3055 [1:30:42<00:32,  1.79s/it, loss=0.112]\u001b[A\n",
      "Epoch 19:  99%|████████████████████████████████████████████▋| 3038/3055 [1:30:43<00:30,  1.79s/it, loss=0.112]\u001b[A\n",
      "Epoch 19:  99%|████████████████████████████████████████████▊| 3039/3055 [1:30:44<00:28,  1.79s/it, loss=0.112]\u001b[A\n",
      "Epoch 19: 100%|████████████████████████████████████████████▊| 3040/3055 [1:30:45<00:26,  1.79s/it, loss=0.112]\u001b[A\n",
      "Epoch 19: 100%|████████████████████████████████████████████▊| 3041/3055 [1:30:46<00:25,  1.79s/it, loss=0.112]\u001b[A\n",
      "Epoch 19: 100%|████████████████████████████████████████████▊| 3042/3055 [1:30:47<00:23,  1.79s/it, loss=0.112]\u001b[A\n",
      "Epoch 19: 100%|████████████████████████████████████████████▊| 3043/3055 [1:30:48<00:21,  1.79s/it, loss=0.112]\u001b[A\n",
      "Epoch 19: 100%|████████████████████████████████████████████▊| 3044/3055 [1:30:50<00:19,  1.79s/it, loss=0.112]\u001b[A\n",
      "Epoch 19: 100%|████████████████████████████████████████████▊| 3045/3055 [1:30:51<00:17,  1.79s/it, loss=0.112]\u001b[A\n",
      "Epoch 19: 100%|████████████████████████████████████████████▊| 3046/3055 [1:30:52<00:16,  1.79s/it, loss=0.112]\u001b[A\n",
      "Epoch 19: 100%|████████████████████████████████████████████▉| 3047/3055 [1:30:53<00:14,  1.79s/it, loss=0.112]\u001b[A\n",
      "Epoch 19: 100%|████████████████████████████████████████████▉| 3048/3055 [1:30:54<00:12,  1.79s/it, loss=0.112]\u001b[A\n",
      "Epoch 19: 100%|████████████████████████████████████████████▉| 3049/3055 [1:30:55<00:10,  1.79s/it, loss=0.112]\u001b[A\n",
      "Epoch 19: 100%|████████████████████████████████████████████▉| 3050/3055 [1:30:57<00:08,  1.79s/it, loss=0.112]\u001b[A\n",
      "Epoch 19: 100%|████████████████████████████████████████████▉| 3051/3055 [1:30:58<00:07,  1.79s/it, loss=0.112]\u001b[A\n",
      "Epoch 19: 100%|████████████████████████████████████████████▉| 3052/3055 [1:30:59<00:05,  1.79s/it, loss=0.112]\u001b[A\n",
      "Epoch 19: 100%|████████████████████████████████████████████▉| 3053/3055 [1:31:00<00:03,  1.79s/it, loss=0.112]\u001b[A\n",
      "Epoch 19: 100%|████████████████████████████████████████████▉| 3054/3055 [1:31:01<00:01,  1.79s/it, loss=0.112]\u001b[A\n",
      "Epoch 19: 100%|█████████████████████████████████████████████| 3055/3055 [1:31:01<00:00,  1.79s/it, loss=0.112]\u001b[A\n",
      "Epoch 19: 100%|█████████████████████████████████████████████| 3055/3055 [1:31:01<00:00,  1.79s/it, loss=0.112]\u001b[A"
     ]
    },
    {
     "name": "stderr",
     "output_type": "stream",
     "text": [
      "Epoch 19, global step 60680: 'val_iou_loss' was not in top True\n"
     ]
    },
    {
     "name": "stdout",
     "output_type": "stream",
     "text": [
      "Epoch 20:  99%|████████████████████████████████████████████▋| 3034/3055 [1:29:30<00:37,  1.77s/it, loss=0.116]\n",
      "Validation: 0it [00:00, ?it/s]\u001b[A\n",
      "Validation:   0%|                                                                      | 0/21 [00:00<?, ?it/s]\u001b[A\n",
      "Validation DataLoader 0:   0%|                                                         | 0/21 [00:00<?, ?it/s]\u001b[A\n",
      "Epoch 20:  99%|████████████████████████████████████████████▋| 3035/3055 [1:29:32<00:35,  1.77s/it, loss=0.116]\u001b[A\n",
      "Epoch 20:  99%|████████████████████████████████████████████▋| 3036/3055 [1:29:33<00:33,  1.77s/it, loss=0.116]\u001b[A\n",
      "Epoch 20:  99%|████████████████████████████████████████████▋| 3037/3055 [1:29:34<00:31,  1.77s/it, loss=0.116]\u001b[A\n",
      "Epoch 20:  99%|████████████████████████████████████████████▋| 3038/3055 [1:29:35<00:30,  1.77s/it, loss=0.116]\u001b[A\n",
      "Epoch 20:  99%|████████████████████████████████████████████▊| 3039/3055 [1:29:36<00:28,  1.77s/it, loss=0.116]\u001b[A\n",
      "Epoch 20: 100%|████████████████████████████████████████████▊| 3040/3055 [1:29:37<00:26,  1.77s/it, loss=0.116]\u001b[A\n",
      "Epoch 20: 100%|████████████████████████████████████████████▊| 3041/3055 [1:29:38<00:24,  1.77s/it, loss=0.116]\u001b[A\n",
      "Epoch 20: 100%|████████████████████████████████████████████▊| 3042/3055 [1:29:39<00:22,  1.77s/it, loss=0.116]\u001b[A\n",
      "Epoch 20: 100%|████████████████████████████████████████████▊| 3043/3055 [1:29:40<00:21,  1.77s/it, loss=0.116]\u001b[A\n",
      "Epoch 20: 100%|████████████████████████████████████████████▊| 3044/3055 [1:29:41<00:19,  1.77s/it, loss=0.116]\u001b[A\n",
      "Epoch 20: 100%|████████████████████████████████████████████▊| 3045/3055 [1:29:42<00:17,  1.77s/it, loss=0.116]\u001b[A\n",
      "Epoch 20: 100%|████████████████████████████████████████████▊| 3046/3055 [1:29:44<00:15,  1.77s/it, loss=0.116]\u001b[A\n",
      "Epoch 20: 100%|████████████████████████████████████████████▉| 3047/3055 [1:29:45<00:14,  1.77s/it, loss=0.116]\u001b[A\n",
      "Epoch 20: 100%|████████████████████████████████████████████▉| 3048/3055 [1:29:46<00:12,  1.77s/it, loss=0.116]\u001b[A\n",
      "Epoch 20: 100%|████████████████████████████████████████████▉| 3049/3055 [1:29:47<00:10,  1.77s/it, loss=0.116]\u001b[A\n",
      "Epoch 20: 100%|████████████████████████████████████████████▉| 3050/3055 [1:29:48<00:08,  1.77s/it, loss=0.116]\u001b[A\n",
      "Epoch 20: 100%|████████████████████████████████████████████▉| 3051/3055 [1:29:49<00:07,  1.77s/it, loss=0.116]\u001b[A\n",
      "Epoch 20: 100%|████████████████████████████████████████████▉| 3052/3055 [1:29:51<00:05,  1.77s/it, loss=0.116]\u001b[A\n",
      "Epoch 20: 100%|████████████████████████████████████████████▉| 3053/3055 [1:29:52<00:03,  1.77s/it, loss=0.116]\u001b[A\n",
      "Epoch 20: 100%|████████████████████████████████████████████▉| 3054/3055 [1:29:53<00:01,  1.77s/it, loss=0.116]\u001b[A\n",
      "Epoch 20: 100%|█████████████████████████████████████████████| 3055/3055 [1:29:53<00:00,  1.77s/it, loss=0.116]\u001b[A\n",
      "Epoch 20: 100%|█████████████████████████████████████████████| 3055/3055 [1:29:53<00:00,  1.77s/it, loss=0.116]\u001b[A"
     ]
    },
    {
     "name": "stderr",
     "output_type": "stream",
     "text": [
      "Epoch 20, global step 63714: 'val_iou_loss' was not in top True\n"
     ]
    },
    {
     "name": "stdout",
     "output_type": "stream",
     "text": [
      "Epoch 00021: reducing learning rate of group 0 to 1.2500e-05.\n",
      "Epoch 21:  99%|█████████████████████████████████████████████▋| 3034/3055 [1:28:40<00:36,  1.75s/it, loss=0.12]\n",
      "Validation: 0it [00:00, ?it/s]\u001b[A\n",
      "Validation:   0%|                                                                      | 0/21 [00:00<?, ?it/s]\u001b[A\n",
      "Validation DataLoader 0:   0%|                                                         | 0/21 [00:00<?, ?it/s]\u001b[A\n",
      "Epoch 21:  99%|█████████████████████████████████████████████▋| 3035/3055 [1:28:42<00:35,  1.75s/it, loss=0.12]\u001b[A\n",
      "Epoch 21:  99%|█████████████████████████████████████████████▋| 3036/3055 [1:28:43<00:33,  1.75s/it, loss=0.12]\u001b[A\n",
      "Epoch 21:  99%|█████████████████████████████████████████████▋| 3037/3055 [1:28:44<00:31,  1.75s/it, loss=0.12]\u001b[A\n",
      "Epoch 21:  99%|█████████████████████████████████████████████▋| 3038/3055 [1:28:45<00:29,  1.75s/it, loss=0.12]\u001b[A\n",
      "Epoch 21:  99%|█████████████████████████████████████████████▊| 3039/3055 [1:28:46<00:28,  1.75s/it, loss=0.12]\u001b[A\n",
      "Epoch 21: 100%|█████████████████████████████████████████████▊| 3040/3055 [1:28:47<00:26,  1.75s/it, loss=0.12]\u001b[A\n",
      "Epoch 21: 100%|█████████████████████████████████████████████▊| 3041/3055 [1:28:49<00:24,  1.75s/it, loss=0.12]\u001b[A\n",
      "Epoch 21: 100%|█████████████████████████████████████████████▊| 3042/3055 [1:28:50<00:22,  1.75s/it, loss=0.12]\u001b[A\n",
      "Epoch 21: 100%|█████████████████████████████████████████████▊| 3043/3055 [1:28:51<00:21,  1.75s/it, loss=0.12]\u001b[A\n",
      "Epoch 21: 100%|█████████████████████████████████████████████▊| 3044/3055 [1:28:52<00:19,  1.75s/it, loss=0.12]\u001b[A\n",
      "Epoch 21: 100%|█████████████████████████████████████████████▊| 3045/3055 [1:28:53<00:17,  1.75s/it, loss=0.12]\u001b[A\n",
      "Epoch 21: 100%|█████████████████████████████████████████████▊| 3046/3055 [1:28:54<00:15,  1.75s/it, loss=0.12]\u001b[A\n",
      "Epoch 21: 100%|█████████████████████████████████████████████▉| 3047/3055 [1:28:56<00:14,  1.75s/it, loss=0.12]\u001b[A\n",
      "Epoch 21: 100%|█████████████████████████████████████████████▉| 3048/3055 [1:28:57<00:12,  1.75s/it, loss=0.12]\u001b[A\n",
      "Epoch 21: 100%|█████████████████████████████████████████████▉| 3049/3055 [1:28:58<00:10,  1.75s/it, loss=0.12]\u001b[A\n",
      "Epoch 21: 100%|█████████████████████████████████████████████▉| 3050/3055 [1:28:59<00:08,  1.75s/it, loss=0.12]\u001b[A\n",
      "Epoch 21: 100%|█████████████████████████████████████████████▉| 3051/3055 [1:29:00<00:07,  1.75s/it, loss=0.12]\u001b[A\n",
      "Epoch 21: 100%|█████████████████████████████████████████████▉| 3052/3055 [1:29:01<00:05,  1.75s/it, loss=0.12]\u001b[A\n",
      "Epoch 21: 100%|█████████████████████████████████████████████▉| 3053/3055 [1:29:02<00:03,  1.75s/it, loss=0.12]\u001b[A\n",
      "Epoch 21: 100%|█████████████████████████████████████████████▉| 3054/3055 [1:29:03<00:01,  1.75s/it, loss=0.12]\u001b[A\n",
      "Epoch 21: 100%|██████████████████████████████████████████████| 3055/3055 [1:29:03<00:00,  1.75s/it, loss=0.12]\u001b[A\n",
      "Epoch 21: 100%|██████████████████████████████████████████████| 3055/3055 [1:29:03<00:00,  1.75s/it, loss=0.12]\u001b[A"
     ]
    },
    {
     "name": "stderr",
     "output_type": "stream",
     "text": [
      "Epoch 21, global step 66748: 'val_iou_loss' reached 0.23799 (best 0.23799), saving model to '/home/viplab/VipLabProjects/satellite-knowledge-distillation/train_models/training_flooding_bgri/checkpoint/epoch=21-step=66748.ckpt' as top True\n"
     ]
    },
    {
     "name": "stdout",
     "output_type": "stream",
     "text": [
      "Epoch 22:  99%|████████████████████████████████████████████▋| 3034/3055 [1:33:32<00:38,  1.85s/it, loss=0.106]\n",
      "Validation: 0it [00:00, ?it/s]\u001b[A\n",
      "Validation:   0%|                                                                      | 0/21 [00:00<?, ?it/s]\u001b[A\n",
      "Validation DataLoader 0:   0%|                                                         | 0/21 [00:00<?, ?it/s]\u001b[A\n",
      "Epoch 22:  99%|████████████████████████████████████████████▋| 3035/3055 [1:33:34<00:36,  1.85s/it, loss=0.106]\u001b[A\n",
      "Epoch 22:  99%|████████████████████████████████████████████▋| 3036/3055 [1:33:35<00:35,  1.85s/it, loss=0.106]\u001b[A\n",
      "Epoch 22:  99%|████████████████████████████████████████████▋| 3037/3055 [1:33:36<00:33,  1.85s/it, loss=0.106]\u001b[A\n",
      "Epoch 22:  99%|████████████████████████████████████████████▋| 3038/3055 [1:33:37<00:31,  1.85s/it, loss=0.106]\u001b[A\n",
      "Epoch 22:  99%|████████████████████████████████████████████▊| 3039/3055 [1:33:38<00:29,  1.85s/it, loss=0.106]\u001b[A\n",
      "Epoch 22: 100%|████████████████████████████████████████████▊| 3040/3055 [1:33:39<00:27,  1.85s/it, loss=0.106]\u001b[A\n",
      "Epoch 22: 100%|████████████████████████████████████████████▊| 3041/3055 [1:33:40<00:25,  1.85s/it, loss=0.106]\u001b[A\n",
      "Epoch 22: 100%|████████████████████████████████████████████▊| 3042/3055 [1:33:42<00:24,  1.85s/it, loss=0.106]\u001b[A\n",
      "Epoch 22: 100%|████████████████████████████████████████████▊| 3043/3055 [1:33:43<00:22,  1.85s/it, loss=0.106]\u001b[A\n",
      "Epoch 22: 100%|████████████████████████████████████████████▊| 3044/3055 [1:33:44<00:20,  1.85s/it, loss=0.106]\u001b[A\n",
      "Epoch 22: 100%|████████████████████████████████████████████▊| 3045/3055 [1:33:45<00:18,  1.85s/it, loss=0.106]\u001b[A\n",
      "Epoch 22: 100%|████████████████████████████████████████████▊| 3046/3055 [1:33:46<00:16,  1.85s/it, loss=0.106]\u001b[A\n",
      "Epoch 22: 100%|████████████████████████████████████████████▉| 3047/3055 [1:33:47<00:14,  1.85s/it, loss=0.106]\u001b[A\n",
      "Epoch 22: 100%|████████████████████████████████████████████▉| 3048/3055 [1:33:48<00:12,  1.85s/it, loss=0.106]\u001b[A\n",
      "Epoch 22: 100%|████████████████████████████████████████████▉| 3049/3055 [1:33:49<00:11,  1.85s/it, loss=0.106]\u001b[A\n",
      "Epoch 22: 100%|████████████████████████████████████████████▉| 3050/3055 [1:33:50<00:09,  1.85s/it, loss=0.106]\u001b[A\n",
      "Epoch 22: 100%|████████████████████████████████████████████▉| 3051/3055 [1:33:51<00:07,  1.85s/it, loss=0.106]\u001b[A\n",
      "Epoch 22: 100%|████████████████████████████████████████████▉| 3052/3055 [1:33:52<00:05,  1.85s/it, loss=0.106]\u001b[A\n",
      "Epoch 22: 100%|████████████████████████████████████████████▉| 3053/3055 [1:33:54<00:03,  1.85s/it, loss=0.106]\u001b[A\n",
      "Epoch 22: 100%|████████████████████████████████████████████▉| 3054/3055 [1:33:55<00:01,  1.85s/it, loss=0.106]\u001b[A\n",
      "Epoch 22: 100%|█████████████████████████████████████████████| 3055/3055 [1:33:55<00:00,  1.84s/it, loss=0.106]\u001b[A\n",
      "Epoch 22: 100%|█████████████████████████████████████████████| 3055/3055 [1:33:55<00:00,  1.84s/it, loss=0.106]\u001b[A"
     ]
    },
    {
     "name": "stderr",
     "output_type": "stream",
     "text": [
      "Epoch 22, global step 69782: 'val_iou_loss' was not in top True\n"
     ]
    },
    {
     "name": "stdout",
     "output_type": "stream",
     "text": [
      "Epoch 23:  99%|████████████████████████████████████████████▋| 3034/3055 [1:33:57<00:39,  1.86s/it, loss=0.117]\n",
      "Validation: 0it [00:00, ?it/s]\u001b[A\n",
      "Validation:   0%|                                                                      | 0/21 [00:00<?, ?it/s]\u001b[A\n",
      "Validation DataLoader 0:   0%|                                                         | 0/21 [00:00<?, ?it/s]\u001b[A\n",
      "Epoch 23:  99%|████████████████████████████████████████████▋| 3035/3055 [1:33:58<00:37,  1.86s/it, loss=0.117]\u001b[A\n",
      "Epoch 23:  99%|████████████████████████████████████████████▋| 3036/3055 [1:33:59<00:35,  1.86s/it, loss=0.117]\u001b[A\n",
      "Epoch 23:  99%|████████████████████████████████████████████▋| 3037/3055 [1:34:01<00:33,  1.86s/it, loss=0.117]\u001b[A\n",
      "Epoch 23:  99%|████████████████████████████████████████████▋| 3038/3055 [1:34:02<00:31,  1.86s/it, loss=0.117]\u001b[A\n",
      "Epoch 23:  99%|████████████████████████████████████████████▊| 3039/3055 [1:34:03<00:29,  1.86s/it, loss=0.117]\u001b[A\n",
      "Epoch 23: 100%|████████████████████████████████████████████▊| 3040/3055 [1:34:04<00:27,  1.86s/it, loss=0.117]\u001b[A\n",
      "Epoch 23: 100%|████████████████████████████████████████████▊| 3041/3055 [1:34:05<00:25,  1.86s/it, loss=0.117]\u001b[A\n",
      "Epoch 23: 100%|████████████████████████████████████████████▊| 3042/3055 [1:34:06<00:24,  1.86s/it, loss=0.117]\u001b[A\n",
      "Epoch 23: 100%|████████████████████████████████████████████▊| 3043/3055 [1:34:08<00:22,  1.86s/it, loss=0.117]\u001b[A\n",
      "Epoch 23: 100%|████████████████████████████████████████████▊| 3044/3055 [1:34:09<00:20,  1.86s/it, loss=0.117]\u001b[A\n",
      "Epoch 23: 100%|████████████████████████████████████████████▊| 3045/3055 [1:34:10<00:18,  1.86s/it, loss=0.117]\u001b[A\n",
      "Epoch 23: 100%|████████████████████████████████████████████▊| 3046/3055 [1:34:11<00:16,  1.86s/it, loss=0.117]\u001b[A\n",
      "Epoch 23: 100%|████████████████████████████████████████████▉| 3047/3055 [1:34:12<00:14,  1.86s/it, loss=0.117]\u001b[A\n",
      "Epoch 23: 100%|████████████████████████████████████████████▉| 3048/3055 [1:34:13<00:12,  1.85s/it, loss=0.117]\u001b[A\n",
      "Epoch 23: 100%|████████████████████████████████████████████▉| 3049/3055 [1:34:14<00:11,  1.85s/it, loss=0.117]\u001b[A\n",
      "Epoch 23: 100%|████████████████████████████████████████████▉| 3050/3055 [1:34:15<00:09,  1.85s/it, loss=0.117]\u001b[A\n",
      "Epoch 23: 100%|████████████████████████████████████████████▉| 3051/3055 [1:34:17<00:07,  1.85s/it, loss=0.117]\u001b[A\n",
      "Epoch 23: 100%|████████████████████████████████████████████▉| 3052/3055 [1:34:18<00:05,  1.85s/it, loss=0.117]\u001b[A\n",
      "Epoch 23: 100%|████████████████████████████████████████████▉| 3053/3055 [1:34:19<00:03,  1.85s/it, loss=0.117]\u001b[A\n",
      "Epoch 23: 100%|████████████████████████████████████████████▉| 3054/3055 [1:34:20<00:01,  1.85s/it, loss=0.117]\u001b[A\n",
      "Epoch 23: 100%|█████████████████████████████████████████████| 3055/3055 [1:34:20<00:00,  1.85s/it, loss=0.117]\u001b[A\n",
      "Epoch 23: 100%|█████████████████████████████████████████████| 3055/3055 [1:34:20<00:00,  1.85s/it, loss=0.117]\u001b[A"
     ]
    },
    {
     "name": "stderr",
     "output_type": "stream",
     "text": [
      "Epoch 23, global step 72816: 'val_iou_loss' was not in top True\n"
     ]
    },
    {
     "name": "stdout",
     "output_type": "stream",
     "text": [
      "Epoch 24:  99%|████████████████████████████████████████████▋| 3034/3055 [1:34:36<00:39,  1.87s/it, loss=0.112]\n",
      "Validation: 0it [00:00, ?it/s]\u001b[A\n",
      "Validation:   0%|                                                                      | 0/21 [00:00<?, ?it/s]\u001b[A\n",
      "Validation DataLoader 0:   0%|                                                         | 0/21 [00:00<?, ?it/s]\u001b[A\n",
      "Epoch 24:  99%|████████████████████████████████████████████▋| 3035/3055 [1:34:37<00:37,  1.87s/it, loss=0.112]\u001b[A\n",
      "Epoch 24:  99%|████████████████████████████████████████████▋| 3036/3055 [1:34:38<00:35,  1.87s/it, loss=0.112]\u001b[A\n",
      "Epoch 24:  99%|████████████████████████████████████████████▋| 3037/3055 [1:34:39<00:33,  1.87s/it, loss=0.112]\u001b[A\n",
      "Epoch 24:  99%|████████████████████████████████████████████▋| 3038/3055 [1:34:40<00:31,  1.87s/it, loss=0.112]\u001b[A\n",
      "Epoch 24:  99%|████████████████████████████████████████████▊| 3039/3055 [1:34:42<00:29,  1.87s/it, loss=0.112]\u001b[A\n",
      "Epoch 24: 100%|████████████████████████████████████████████▊| 3040/3055 [1:34:43<00:28,  1.87s/it, loss=0.112]\u001b[A\n",
      "Epoch 24: 100%|████████████████████████████████████████████▊| 3041/3055 [1:34:44<00:26,  1.87s/it, loss=0.112]\u001b[A\n",
      "Epoch 24: 100%|████████████████████████████████████████████▊| 3042/3055 [1:34:45<00:24,  1.87s/it, loss=0.112]\u001b[A\n",
      "Epoch 24: 100%|████████████████████████████████████████████▊| 3043/3055 [1:34:46<00:22,  1.87s/it, loss=0.112]\u001b[A\n",
      "Epoch 24: 100%|████████████████████████████████████████████▊| 3044/3055 [1:34:47<00:20,  1.87s/it, loss=0.112]\u001b[A\n",
      "Epoch 24: 100%|████████████████████████████████████████████▊| 3045/3055 [1:34:49<00:18,  1.87s/it, loss=0.112]\u001b[A\n",
      "Epoch 24: 100%|████████████████████████████████████████████▊| 3046/3055 [1:34:50<00:16,  1.87s/it, loss=0.112]\u001b[A\n",
      "Epoch 24: 100%|████████████████████████████████████████████▉| 3047/3055 [1:34:51<00:14,  1.87s/it, loss=0.112]\u001b[A\n",
      "Epoch 24: 100%|████████████████████████████████████████████▉| 3048/3055 [1:34:52<00:13,  1.87s/it, loss=0.112]\u001b[A\n",
      "Epoch 24: 100%|████████████████████████████████████████████▉| 3049/3055 [1:34:54<00:11,  1.87s/it, loss=0.112]\u001b[A\n",
      "Epoch 24: 100%|████████████████████████████████████████████▉| 3050/3055 [1:34:55<00:09,  1.87s/it, loss=0.112]\u001b[A\n",
      "Epoch 24: 100%|████████████████████████████████████████████▉| 3051/3055 [1:34:56<00:07,  1.87s/it, loss=0.112]\u001b[A\n",
      "Epoch 24: 100%|████████████████████████████████████████████▉| 3052/3055 [1:34:57<00:05,  1.87s/it, loss=0.112]\u001b[A\n",
      "Epoch 24: 100%|████████████████████████████████████████████▉| 3053/3055 [1:34:58<00:03,  1.87s/it, loss=0.112]\u001b[A\n",
      "Epoch 24: 100%|████████████████████████████████████████████▉| 3054/3055 [1:34:59<00:01,  1.87s/it, loss=0.112]\u001b[A\n",
      "Epoch 24: 100%|█████████████████████████████████████████████| 3055/3055 [1:34:59<00:00,  1.87s/it, loss=0.112]\u001b[A\n",
      "Epoch 24: 100%|█████████████████████████████████████████████| 3055/3055 [1:34:59<00:00,  1.87s/it, loss=0.112]\u001b[A"
     ]
    },
    {
     "name": "stderr",
     "output_type": "stream",
     "text": [
      "Epoch 24, global step 75850: 'val_iou_loss' was not in top True\n"
     ]
    },
    {
     "name": "stdout",
     "output_type": "stream",
     "text": [
      "Epoch 00025: reducing learning rate of group 0 to 6.2500e-06.\n",
      "Epoch 25:  99%|█████████████████████████████████████████████▋| 3034/3055 [1:34:55<00:39,  1.88s/it, loss=0.11]\n",
      "Validation: 0it [00:00, ?it/s]\u001b[A\n",
      "Validation:   0%|                                                                      | 0/21 [00:00<?, ?it/s]\u001b[A\n",
      "Validation DataLoader 0:   0%|                                                         | 0/21 [00:00<?, ?it/s]\u001b[A\n",
      "Epoch 25:  99%|█████████████████████████████████████████████▋| 3035/3055 [1:34:56<00:37,  1.88s/it, loss=0.11]\u001b[A\n",
      "Epoch 25:  99%|█████████████████████████████████████████████▋| 3036/3055 [1:34:58<00:35,  1.88s/it, loss=0.11]\u001b[A\n",
      "Epoch 25:  99%|█████████████████████████████████████████████▋| 3037/3055 [1:34:59<00:33,  1.88s/it, loss=0.11]\u001b[A\n",
      "Epoch 25:  99%|█████████████████████████████████████████████▋| 3038/3055 [1:35:00<00:31,  1.88s/it, loss=0.11]\u001b[A\n",
      "Epoch 25:  99%|█████████████████████████████████████████████▊| 3039/3055 [1:35:01<00:30,  1.88s/it, loss=0.11]\u001b[A\n",
      "Epoch 25: 100%|█████████████████████████████████████████████▊| 3040/3055 [1:35:02<00:28,  1.88s/it, loss=0.11]\u001b[A\n",
      "Epoch 25: 100%|█████████████████████████████████████████████▊| 3041/3055 [1:35:03<00:26,  1.88s/it, loss=0.11]\u001b[A\n",
      "Epoch 25: 100%|█████████████████████████████████████████████▊| 3042/3055 [1:35:04<00:24,  1.88s/it, loss=0.11]\u001b[A\n",
      "Epoch 25: 100%|█████████████████████████████████████████████▊| 3043/3055 [1:35:05<00:22,  1.88s/it, loss=0.11]\u001b[A\n",
      "Epoch 25: 100%|█████████████████████████████████████████████▊| 3044/3055 [1:35:07<00:20,  1.87s/it, loss=0.11]\u001b[A\n",
      "Epoch 25: 100%|█████████████████████████████████████████████▊| 3045/3055 [1:35:08<00:18,  1.87s/it, loss=0.11]\u001b[A\n",
      "Epoch 25: 100%|█████████████████████████████████████████████▊| 3046/3055 [1:35:09<00:16,  1.87s/it, loss=0.11]\u001b[A\n",
      "Epoch 25: 100%|█████████████████████████████████████████████▉| 3047/3055 [1:35:10<00:14,  1.87s/it, loss=0.11]\u001b[A\n",
      "Epoch 25: 100%|█████████████████████████████████████████████▉| 3048/3055 [1:35:11<00:13,  1.87s/it, loss=0.11]\u001b[A\n",
      "Epoch 25: 100%|█████████████████████████████████████████████▉| 3049/3055 [1:35:12<00:11,  1.87s/it, loss=0.11]\u001b[A\n",
      "Epoch 25: 100%|█████████████████████████████████████████████▉| 3050/3055 [1:35:13<00:09,  1.87s/it, loss=0.11]\u001b[A\n",
      "Epoch 25: 100%|█████████████████████████████████████████████▉| 3051/3055 [1:35:14<00:07,  1.87s/it, loss=0.11]\u001b[A\n",
      "Epoch 25: 100%|█████████████████████████████████████████████▉| 3052/3055 [1:35:16<00:05,  1.87s/it, loss=0.11]\u001b[A\n",
      "Epoch 25: 100%|█████████████████████████████████████████████▉| 3053/3055 [1:35:17<00:03,  1.87s/it, loss=0.11]\u001b[A\n",
      "Epoch 25: 100%|█████████████████████████████████████████████▉| 3054/3055 [1:35:18<00:01,  1.87s/it, loss=0.11]\u001b[A\n",
      "Epoch 25: 100%|██████████████████████████████████████████████| 3055/3055 [1:35:18<00:00,  1.87s/it, loss=0.11]\u001b[A\n",
      "Epoch 25: 100%|██████████████████████████████████████████████| 3055/3055 [1:35:18<00:00,  1.87s/it, loss=0.11]\u001b[A"
     ]
    },
    {
     "name": "stderr",
     "output_type": "stream",
     "text": [
      "Epoch 25, global step 78884: 'val_iou_loss' was not in top True\n"
     ]
    },
    {
     "name": "stdout",
     "output_type": "stream",
     "text": [
      "Epoch 26:  99%|█████████████████████████████████████████████▋| 3034/3055 [1:34:02<00:39,  1.86s/it, loss=0.11]\n",
      "Validation: 0it [00:00, ?it/s]\u001b[A\n",
      "Validation:   0%|                                                                      | 0/21 [00:00<?, ?it/s]\u001b[A\n",
      "Validation DataLoader 0:   0%|                                                         | 0/21 [00:00<?, ?it/s]\u001b[A\n",
      "Epoch 26:  99%|█████████████████████████████████████████████▋| 3035/3055 [1:34:03<00:37,  1.86s/it, loss=0.11]\u001b[A\n",
      "Epoch 26:  99%|█████████████████████████████████████████████▋| 3036/3055 [1:34:05<00:35,  1.86s/it, loss=0.11]\u001b[A\n",
      "Epoch 26:  99%|█████████████████████████████████████████████▋| 3037/3055 [1:34:06<00:33,  1.86s/it, loss=0.11]\u001b[A\n",
      "Epoch 26:  99%|█████████████████████████████████████████████▋| 3038/3055 [1:34:07<00:31,  1.86s/it, loss=0.11]\u001b[A\n",
      "Epoch 26:  99%|█████████████████████████████████████████████▊| 3039/3055 [1:34:08<00:29,  1.86s/it, loss=0.11]\u001b[A\n",
      "Epoch 26: 100%|█████████████████████████████████████████████▊| 3040/3055 [1:34:09<00:27,  1.86s/it, loss=0.11]\u001b[A\n",
      "Epoch 26: 100%|█████████████████████████████████████████████▊| 3041/3055 [1:34:10<00:26,  1.86s/it, loss=0.11]\u001b[A\n",
      "Epoch 26: 100%|█████████████████████████████████████████████▊| 3042/3055 [1:34:11<00:24,  1.86s/it, loss=0.11]\u001b[A\n",
      "Epoch 26: 100%|█████████████████████████████████████████████▊| 3043/3055 [1:34:13<00:22,  1.86s/it, loss=0.11]\u001b[A\n",
      "Epoch 26: 100%|█████████████████████████████████████████████▊| 3044/3055 [1:34:14<00:20,  1.86s/it, loss=0.11]\u001b[A\n",
      "Epoch 26: 100%|█████████████████████████████████████████████▊| 3045/3055 [1:34:15<00:18,  1.86s/it, loss=0.11]\u001b[A\n",
      "Epoch 26: 100%|█████████████████████████████████████████████▊| 3046/3055 [1:34:16<00:16,  1.86s/it, loss=0.11]\u001b[A\n",
      "Epoch 26: 100%|█████████████████████████████████████████████▉| 3047/3055 [1:34:17<00:14,  1.86s/it, loss=0.11]\u001b[A\n",
      "Epoch 26: 100%|█████████████████████████████████████████████▉| 3048/3055 [1:34:18<00:12,  1.86s/it, loss=0.11]\u001b[A\n",
      "Epoch 26: 100%|█████████████████████████████████████████████▉| 3049/3055 [1:34:19<00:11,  1.86s/it, loss=0.11]\u001b[A\n",
      "Epoch 26: 100%|█████████████████████████████████████████████▉| 3050/3055 [1:34:20<00:09,  1.86s/it, loss=0.11]\u001b[A\n",
      "Epoch 26: 100%|█████████████████████████████████████████████▉| 3051/3055 [1:34:22<00:07,  1.86s/it, loss=0.11]\u001b[A\n",
      "Epoch 26: 100%|█████████████████████████████████████████████▉| 3052/3055 [1:34:23<00:05,  1.86s/it, loss=0.11]\u001b[A\n",
      "Epoch 26: 100%|█████████████████████████████████████████████▉| 3053/3055 [1:34:24<00:03,  1.86s/it, loss=0.11]\u001b[A\n",
      "Epoch 26: 100%|█████████████████████████████████████████████▉| 3054/3055 [1:34:25<00:01,  1.85s/it, loss=0.11]\u001b[A\n",
      "Epoch 26: 100%|██████████████████████████████████████████████| 3055/3055 [1:34:25<00:00,  1.85s/it, loss=0.11]\u001b[A\n",
      "Epoch 26: 100%|██████████████████████████████████████████████| 3055/3055 [1:34:25<00:00,  1.85s/it, loss=0.11]\u001b[A"
     ]
    },
    {
     "name": "stderr",
     "output_type": "stream",
     "text": [
      "Epoch 26, global step 81918: 'val_iou_loss' reached 0.23740 (best 0.23740), saving model to '/home/viplab/VipLabProjects/satellite-knowledge-distillation/train_models/training_flooding_bgri/checkpoint/epoch=26-step=81918.ckpt' as top True\n"
     ]
    },
    {
     "name": "stdout",
     "output_type": "stream",
     "text": [
      "Epoch 27:  99%|████████████████████████████████████████████▋| 3034/3055 [1:34:16<00:39,  1.86s/it, loss=0.113]\n",
      "Validation: 0it [00:00, ?it/s]\u001b[A\n",
      "Validation:   0%|                                                                      | 0/21 [00:00<?, ?it/s]\u001b[A\n",
      "Validation DataLoader 0:   0%|                                                         | 0/21 [00:00<?, ?it/s]\u001b[A\n",
      "Epoch 27:  99%|████████████████████████████████████████████▋| 3035/3055 [1:34:18<00:37,  1.86s/it, loss=0.113]\u001b[A\n",
      "Epoch 27:  99%|████████████████████████████████████████████▋| 3036/3055 [1:34:19<00:35,  1.86s/it, loss=0.113]\u001b[A\n",
      "Epoch 27:  99%|████████████████████████████████████████████▋| 3037/3055 [1:34:20<00:33,  1.86s/it, loss=0.113]\u001b[A\n",
      "Epoch 27:  99%|████████████████████████████████████████████▋| 3038/3055 [1:34:21<00:31,  1.86s/it, loss=0.113]\u001b[A\n",
      "Epoch 27:  99%|████████████████████████████████████████████▊| 3039/3055 [1:34:22<00:29,  1.86s/it, loss=0.113]\u001b[A\n",
      "Epoch 27: 100%|████████████████████████████████████████████▊| 3040/3055 [1:34:24<00:27,  1.86s/it, loss=0.113]\u001b[A\n",
      "Epoch 27: 100%|████████████████████████████████████████████▊| 3041/3055 [1:34:25<00:26,  1.86s/it, loss=0.113]\u001b[A\n",
      "Epoch 27: 100%|████████████████████████████████████████████▊| 3042/3055 [1:34:26<00:24,  1.86s/it, loss=0.113]\u001b[A\n",
      "Epoch 27: 100%|████████████████████████████████████████████▊| 3043/3055 [1:34:27<00:22,  1.86s/it, loss=0.113]\u001b[A\n",
      "Epoch 27: 100%|████████████████████████████████████████████▊| 3044/3055 [1:34:28<00:20,  1.86s/it, loss=0.113]\u001b[A\n",
      "Epoch 27: 100%|████████████████████████████████████████████▊| 3045/3055 [1:34:29<00:18,  1.86s/it, loss=0.113]\u001b[A\n",
      "Epoch 27: 100%|████████████████████████████████████████████▊| 3046/3055 [1:34:30<00:16,  1.86s/it, loss=0.113]\u001b[A\n",
      "Epoch 27: 100%|████████████████████████████████████████████▉| 3047/3055 [1:34:32<00:14,  1.86s/it, loss=0.113]\u001b[A\n",
      "Epoch 27: 100%|████████████████████████████████████████████▉| 3048/3055 [1:34:33<00:13,  1.86s/it, loss=0.113]\u001b[A\n",
      "Epoch 27: 100%|████████████████████████████████████████████▉| 3049/3055 [1:34:34<00:11,  1.86s/it, loss=0.113]\u001b[A\n",
      "Epoch 27: 100%|████████████████████████████████████████████▉| 3050/3055 [1:34:35<00:09,  1.86s/it, loss=0.113]\u001b[A\n",
      "Epoch 27: 100%|████████████████████████████████████████████▉| 3051/3055 [1:34:36<00:07,  1.86s/it, loss=0.113]\u001b[A\n",
      "Epoch 27: 100%|████████████████████████████████████████████▉| 3052/3055 [1:34:37<00:05,  1.86s/it, loss=0.113]\u001b[A\n",
      "Epoch 27: 100%|████████████████████████████████████████████▉| 3053/3055 [1:34:38<00:03,  1.86s/it, loss=0.113]\u001b[A\n",
      "Epoch 27: 100%|████████████████████████████████████████████▉| 3054/3055 [1:34:39<00:01,  1.86s/it, loss=0.113]\u001b[A\n",
      "Epoch 27: 100%|█████████████████████████████████████████████| 3055/3055 [1:34:40<00:00,  1.86s/it, loss=0.113]\u001b[A\n",
      "Epoch 27: 100%|█████████████████████████████████████████████| 3055/3055 [1:34:40<00:00,  1.86s/it, loss=0.113]\u001b[A"
     ]
    },
    {
     "name": "stderr",
     "output_type": "stream",
     "text": [
      "Epoch 27, global step 84952: 'val_iou_loss' reached 0.23645 (best 0.23645), saving model to '/home/viplab/VipLabProjects/satellite-knowledge-distillation/train_models/training_flooding_bgri/checkpoint/epoch=27-step=84952.ckpt' as top True\n"
     ]
    },
    {
     "name": "stdout",
     "output_type": "stream",
     "text": [
      "Epoch 28:  99%|████████████████████████████████████████████▋| 3034/3055 [1:37:08<00:40,  1.92s/it, loss=0.112]\n",
      "Validation: 0it [00:00, ?it/s]\u001b[A\n",
      "Validation:   0%|                                                                      | 0/21 [00:00<?, ?it/s]\u001b[A\n",
      "Validation DataLoader 0:   0%|                                                         | 0/21 [00:00<?, ?it/s]\u001b[A\n",
      "Epoch 28:  99%|████████████████████████████████████████████▋| 3035/3055 [1:37:10<00:38,  1.92s/it, loss=0.112]\u001b[A\n",
      "Epoch 28:  99%|████████████████████████████████████████████▋| 3036/3055 [1:37:11<00:36,  1.92s/it, loss=0.112]\u001b[A\n",
      "Epoch 28:  99%|████████████████████████████████████████████▋| 3037/3055 [1:37:12<00:34,  1.92s/it, loss=0.112]\u001b[A\n",
      "Epoch 28:  99%|████████████████████████████████████████████▋| 3038/3055 [1:37:13<00:32,  1.92s/it, loss=0.112]\u001b[A\n",
      "Epoch 28:  99%|████████████████████████████████████████████▊| 3039/3055 [1:37:14<00:30,  1.92s/it, loss=0.112]\u001b[A\n",
      "Epoch 28: 100%|████████████████████████████████████████████▊| 3040/3055 [1:37:15<00:28,  1.92s/it, loss=0.112]\u001b[A\n",
      "Epoch 28: 100%|████████████████████████████████████████████▊| 3041/3055 [1:37:17<00:26,  1.92s/it, loss=0.112]\u001b[A\n",
      "Epoch 28: 100%|████████████████████████████████████████████▊| 3042/3055 [1:37:18<00:24,  1.92s/it, loss=0.112]\u001b[A\n",
      "Epoch 28: 100%|████████████████████████████████████████████▊| 3043/3055 [1:37:19<00:23,  1.92s/it, loss=0.112]\u001b[A\n",
      "Epoch 28: 100%|████████████████████████████████████████████▊| 3044/3055 [1:37:20<00:21,  1.92s/it, loss=0.112]\u001b[A\n",
      "Epoch 28: 100%|████████████████████████████████████████████▊| 3045/3055 [1:37:21<00:19,  1.92s/it, loss=0.112]\u001b[A\n",
      "Epoch 28: 100%|████████████████████████████████████████████▊| 3046/3055 [1:37:22<00:17,  1.92s/it, loss=0.112]\u001b[A\n",
      "Epoch 28: 100%|████████████████████████████████████████████▉| 3047/3055 [1:37:23<00:15,  1.92s/it, loss=0.112]\u001b[A\n",
      "Epoch 28: 100%|████████████████████████████████████████████▉| 3048/3055 [1:37:25<00:13,  1.92s/it, loss=0.112]\u001b[A\n",
      "Epoch 28: 100%|████████████████████████████████████████████▉| 3049/3055 [1:37:26<00:11,  1.92s/it, loss=0.112]\u001b[A\n",
      "Epoch 28: 100%|████████████████████████████████████████████▉| 3050/3055 [1:37:27<00:09,  1.92s/it, loss=0.112]\u001b[A\n",
      "Epoch 28: 100%|████████████████████████████████████████████▉| 3051/3055 [1:37:28<00:07,  1.92s/it, loss=0.112]\u001b[A\n",
      "Epoch 28: 100%|████████████████████████████████████████████▉| 3052/3055 [1:37:29<00:05,  1.92s/it, loss=0.112]\u001b[A\n",
      "Epoch 28: 100%|████████████████████████████████████████████▉| 3053/3055 [1:37:30<00:03,  1.92s/it, loss=0.112]\u001b[A\n",
      "Epoch 28: 100%|████████████████████████████████████████████▉| 3054/3055 [1:37:32<00:01,  1.92s/it, loss=0.112]\u001b[A\n",
      "Epoch 28: 100%|█████████████████████████████████████████████| 3055/3055 [1:37:32<00:00,  1.92s/it, loss=0.112]\u001b[A\n",
      "Epoch 28: 100%|█████████████████████████████████████████████| 3055/3055 [1:37:32<00:00,  1.92s/it, loss=0.112]\u001b[A"
     ]
    },
    {
     "name": "stderr",
     "output_type": "stream",
     "text": [
      "Epoch 28, global step 87986: 'val_iou_loss' was not in top True\n"
     ]
    },
    {
     "name": "stdout",
     "output_type": "stream",
     "text": [
      "Epoch 29:  99%|████████████████████████████████████████████▋| 3034/3055 [1:37:05<00:40,  1.92s/it, loss=0.116]\n",
      "Validation: 0it [00:00, ?it/s]\u001b[A\n",
      "Validation:   0%|                                                                      | 0/21 [00:00<?, ?it/s]\u001b[A\n",
      "Validation DataLoader 0:   0%|                                                         | 0/21 [00:00<?, ?it/s]\u001b[A\n",
      "Epoch 29:  99%|████████████████████████████████████████████▋| 3035/3055 [1:37:06<00:38,  1.92s/it, loss=0.116]\u001b[A\n",
      "Epoch 29:  99%|████████████████████████████████████████████▋| 3036/3055 [1:37:07<00:36,  1.92s/it, loss=0.116]\u001b[A\n",
      "Epoch 29:  99%|████████████████████████████████████████████▋| 3037/3055 [1:37:08<00:34,  1.92s/it, loss=0.116]\u001b[A\n",
      "Epoch 29:  99%|████████████████████████████████████████████▋| 3038/3055 [1:37:10<00:32,  1.92s/it, loss=0.116]\u001b[A\n",
      "Epoch 29:  99%|████████████████████████████████████████████▊| 3039/3055 [1:37:11<00:30,  1.92s/it, loss=0.116]\u001b[A\n",
      "Epoch 29: 100%|████████████████████████████████████████████▊| 3040/3055 [1:37:12<00:28,  1.92s/it, loss=0.116]\u001b[A\n",
      "Epoch 29: 100%|████████████████████████████████████████████▊| 3041/3055 [1:37:13<00:26,  1.92s/it, loss=0.116]\u001b[A\n",
      "Epoch 29: 100%|████████████████████████████████████████████▊| 3042/3055 [1:37:14<00:24,  1.92s/it, loss=0.116]\u001b[A\n",
      "Epoch 29: 100%|████████████████████████████████████████████▊| 3043/3055 [1:37:15<00:23,  1.92s/it, loss=0.116]\u001b[A\n",
      "Epoch 29: 100%|████████████████████████████████████████████▊| 3044/3055 [1:37:17<00:21,  1.92s/it, loss=0.116]\u001b[A\n",
      "Epoch 29: 100%|████████████████████████████████████████████▊| 3045/3055 [1:37:18<00:19,  1.92s/it, loss=0.116]\u001b[A\n",
      "Epoch 29: 100%|████████████████████████████████████████████▊| 3046/3055 [1:37:19<00:17,  1.92s/it, loss=0.116]\u001b[A\n",
      "Epoch 29: 100%|████████████████████████████████████████████▉| 3047/3055 [1:37:20<00:15,  1.92s/it, loss=0.116]\u001b[A\n",
      "Epoch 29: 100%|████████████████████████████████████████████▉| 3048/3055 [1:37:21<00:13,  1.92s/it, loss=0.116]\u001b[A\n",
      "Epoch 29: 100%|████████████████████████████████████████████▉| 3049/3055 [1:37:22<00:11,  1.92s/it, loss=0.116]\u001b[A\n",
      "Epoch 29: 100%|████████████████████████████████████████████▉| 3050/3055 [1:37:24<00:09,  1.92s/it, loss=0.116]\u001b[A\n",
      "Epoch 29: 100%|████████████████████████████████████████████▉| 3051/3055 [1:37:25<00:07,  1.92s/it, loss=0.116]\u001b[A\n",
      "Epoch 29: 100%|████████████████████████████████████████████▉| 3052/3055 [1:37:26<00:05,  1.92s/it, loss=0.116]\u001b[A\n",
      "Epoch 29: 100%|████████████████████████████████████████████▉| 3053/3055 [1:37:27<00:03,  1.92s/it, loss=0.116]\u001b[A\n",
      "Epoch 29: 100%|████████████████████████████████████████████▉| 3054/3055 [1:37:28<00:01,  1.92s/it, loss=0.116]\u001b[A\n",
      "Epoch 29: 100%|█████████████████████████████████████████████| 3055/3055 [1:37:28<00:00,  1.91s/it, loss=0.116]\u001b[A\n",
      "Epoch 29: 100%|█████████████████████████████████████████████| 3055/3055 [1:37:28<00:00,  1.91s/it, loss=0.116]\u001b[A"
     ]
    },
    {
     "name": "stderr",
     "output_type": "stream",
     "text": [
      "Epoch 29, global step 91020: 'val_iou_loss' was not in top True\n"
     ]
    },
    {
     "name": "stdout",
     "output_type": "stream",
     "text": [
      "Epoch 30:  99%|████████████████████████████████████████████▋| 3034/3055 [1:34:54<00:39,  1.88s/it, loss=0.109]\n",
      "Validation: 0it [00:00, ?it/s]\u001b[A\n",
      "Validation:   0%|                                                                      | 0/21 [00:00<?, ?it/s]\u001b[A\n",
      "Validation DataLoader 0:   0%|                                                         | 0/21 [00:00<?, ?it/s]\u001b[A\n",
      "Epoch 30:  99%|████████████████████████████████████████████▋| 3035/3055 [1:34:55<00:37,  1.88s/it, loss=0.109]\u001b[A\n",
      "Epoch 30:  99%|████████████████████████████████████████████▋| 3036/3055 [1:34:57<00:35,  1.88s/it, loss=0.109]\u001b[A\n",
      "Epoch 30:  99%|████████████████████████████████████████████▋| 3037/3055 [1:34:58<00:33,  1.88s/it, loss=0.109]\u001b[A\n",
      "Epoch 30:  99%|████████████████████████████████████████████▋| 3038/3055 [1:34:59<00:31,  1.88s/it, loss=0.109]\u001b[A\n",
      "Epoch 30:  99%|████████████████████████████████████████████▊| 3039/3055 [1:35:00<00:30,  1.88s/it, loss=0.109]\u001b[A\n",
      "Epoch 30: 100%|████████████████████████████████████████████▊| 3040/3055 [1:35:01<00:28,  1.88s/it, loss=0.109]\u001b[A\n",
      "Epoch 30: 100%|████████████████████████████████████████████▊| 3041/3055 [1:35:02<00:26,  1.88s/it, loss=0.109]\u001b[A\n",
      "Epoch 30: 100%|████████████████████████████████████████████▊| 3042/3055 [1:35:03<00:24,  1.87s/it, loss=0.109]\u001b[A\n",
      "Epoch 30: 100%|████████████████████████████████████████████▊| 3043/3055 [1:35:04<00:22,  1.87s/it, loss=0.109]\u001b[A\n",
      "Epoch 30: 100%|████████████████████████████████████████████▊| 3044/3055 [1:35:06<00:20,  1.87s/it, loss=0.109]\u001b[A\n",
      "Epoch 30: 100%|████████████████████████████████████████████▊| 3045/3055 [1:35:07<00:18,  1.87s/it, loss=0.109]\u001b[A\n",
      "Epoch 30: 100%|████████████████████████████████████████████▊| 3046/3055 [1:35:08<00:16,  1.87s/it, loss=0.109]\u001b[A\n",
      "Epoch 30: 100%|████████████████████████████████████████████▉| 3047/3055 [1:35:09<00:14,  1.87s/it, loss=0.109]\u001b[A\n",
      "Epoch 30: 100%|████████████████████████████████████████████▉| 3048/3055 [1:35:10<00:13,  1.87s/it, loss=0.109]\u001b[A\n",
      "Epoch 30: 100%|████████████████████████████████████████████▉| 3049/3055 [1:35:11<00:11,  1.87s/it, loss=0.109]\u001b[A\n",
      "Epoch 30: 100%|████████████████████████████████████████████▉| 3050/3055 [1:35:12<00:09,  1.87s/it, loss=0.109]\u001b[A\n",
      "Epoch 30: 100%|████████████████████████████████████████████▉| 3051/3055 [1:35:13<00:07,  1.87s/it, loss=0.109]\u001b[A\n",
      "Epoch 30: 100%|████████████████████████████████████████████▉| 3052/3055 [1:35:14<00:05,  1.87s/it, loss=0.109]\u001b[A\n",
      "Epoch 30: 100%|████████████████████████████████████████████▉| 3053/3055 [1:35:15<00:03,  1.87s/it, loss=0.109]\u001b[A\n",
      "Epoch 30: 100%|████████████████████████████████████████████▉| 3054/3055 [1:35:17<00:01,  1.87s/it, loss=0.109]\u001b[A\n",
      "Epoch 30: 100%|█████████████████████████████████████████████| 3055/3055 [1:35:17<00:00,  1.87s/it, loss=0.109]\u001b[A\n",
      "Epoch 30: 100%|█████████████████████████████████████████████| 3055/3055 [1:35:17<00:00,  1.87s/it, loss=0.109]\u001b[A"
     ]
    },
    {
     "name": "stderr",
     "output_type": "stream",
     "text": [
      "Epoch 30, global step 94054: 'val_iou_loss' reached 0.23610 (best 0.23610), saving model to '/home/viplab/VipLabProjects/satellite-knowledge-distillation/train_models/training_flooding_bgri/checkpoint/epoch=30-step=94054.ckpt' as top True\n"
     ]
    },
    {
     "name": "stdout",
     "output_type": "stream",
     "text": [
      "Epoch 31:  99%|████████████████████████████████████████████▋| 3034/3055 [1:34:38<00:39,  1.87s/it, loss=0.109]\n",
      "Validation: 0it [00:00, ?it/s]\u001b[A\n",
      "Validation:   0%|                                                                      | 0/21 [00:00<?, ?it/s]\u001b[A\n",
      "Validation DataLoader 0:   0%|                                                         | 0/21 [00:00<?, ?it/s]\u001b[A\n",
      "Epoch 31:  99%|████████████████████████████████████████████▋| 3035/3055 [1:34:39<00:37,  1.87s/it, loss=0.109]\u001b[A\n",
      "Epoch 31:  99%|████████████████████████████████████████████▋| 3036/3055 [1:34:40<00:35,  1.87s/it, loss=0.109]\u001b[A\n",
      "Epoch 31:  99%|████████████████████████████████████████████▋| 3037/3055 [1:34:41<00:33,  1.87s/it, loss=0.109]\u001b[A\n",
      "Epoch 31:  99%|████████████████████████████████████████████▋| 3038/3055 [1:34:42<00:31,  1.87s/it, loss=0.109]\u001b[A\n",
      "Epoch 31:  99%|████████████████████████████████████████████▊| 3039/3055 [1:34:43<00:29,  1.87s/it, loss=0.109]\u001b[A\n",
      "Epoch 31: 100%|████████████████████████████████████████████▊| 3040/3055 [1:34:44<00:28,  1.87s/it, loss=0.109]\u001b[A\n",
      "Epoch 31: 100%|████████████████████████████████████████████▊| 3041/3055 [1:34:46<00:26,  1.87s/it, loss=0.109]\u001b[A\n",
      "Epoch 31: 100%|████████████████████████████████████████████▊| 3042/3055 [1:34:47<00:24,  1.87s/it, loss=0.109]\u001b[A\n",
      "Epoch 31: 100%|████████████████████████████████████████████▊| 3043/3055 [1:34:48<00:22,  1.87s/it, loss=0.109]\u001b[A\n",
      "Epoch 31: 100%|████████████████████████████████████████████▊| 3044/3055 [1:34:49<00:20,  1.87s/it, loss=0.109]\u001b[A\n",
      "Epoch 31: 100%|████████████████████████████████████████████▊| 3045/3055 [1:34:50<00:18,  1.87s/it, loss=0.109]\u001b[A\n",
      "Epoch 31: 100%|████████████████████████████████████████████▊| 3046/3055 [1:34:51<00:16,  1.87s/it, loss=0.109]\u001b[A\n",
      "Epoch 31: 100%|████████████████████████████████████████████▉| 3047/3055 [1:34:52<00:14,  1.87s/it, loss=0.109]\u001b[A\n",
      "Epoch 31: 100%|████████████████████████████████████████████▉| 3048/3055 [1:34:54<00:13,  1.87s/it, loss=0.109]\u001b[A\n",
      "Epoch 31: 100%|████████████████████████████████████████████▉| 3049/3055 [1:34:55<00:11,  1.87s/it, loss=0.109]\u001b[A\n",
      "Epoch 31: 100%|████████████████████████████████████████████▉| 3050/3055 [1:34:56<00:09,  1.87s/it, loss=0.109]\u001b[A\n",
      "Epoch 31: 100%|████████████████████████████████████████████▉| 3051/3055 [1:34:57<00:07,  1.87s/it, loss=0.109]\u001b[A\n",
      "Epoch 31: 100%|████████████████████████████████████████████▉| 3052/3055 [1:34:58<00:05,  1.87s/it, loss=0.109]\u001b[A\n",
      "Epoch 31: 100%|████████████████████████████████████████████▉| 3053/3055 [1:34:59<00:03,  1.87s/it, loss=0.109]\u001b[A\n",
      "Epoch 31: 100%|████████████████████████████████████████████▉| 3054/3055 [1:35:00<00:01,  1.87s/it, loss=0.109]\u001b[A\n",
      "Epoch 31: 100%|█████████████████████████████████████████████| 3055/3055 [1:35:00<00:00,  1.87s/it, loss=0.109]\u001b[A\n",
      "Epoch 31: 100%|█████████████████████████████████████████████| 3055/3055 [1:35:00<00:00,  1.87s/it, loss=0.109]\u001b[A"
     ]
    },
    {
     "name": "stderr",
     "output_type": "stream",
     "text": [
      "Epoch 31, global step 97088: 'val_iou_loss' was not in top True\n"
     ]
    },
    {
     "name": "stdout",
     "output_type": "stream",
     "text": [
      "Epoch 32:  99%|████████████████████████████████████████████▋| 3034/3055 [1:37:07<00:40,  1.92s/it, loss=0.115]\n",
      "Validation: 0it [00:00, ?it/s]\u001b[A\n",
      "Validation:   0%|                                                                      | 0/21 [00:00<?, ?it/s]\u001b[A\n",
      "Validation DataLoader 0:   0%|                                                         | 0/21 [00:00<?, ?it/s]\u001b[A\n",
      "Epoch 32:  99%|████████████████████████████████████████████▋| 3035/3055 [1:37:09<00:38,  1.92s/it, loss=0.115]\u001b[A\n",
      "Epoch 32:  99%|████████████████████████████████████████████▋| 3036/3055 [1:37:10<00:36,  1.92s/it, loss=0.115]\u001b[A\n",
      "Epoch 32:  99%|████████████████████████████████████████████▋| 3037/3055 [1:37:11<00:34,  1.92s/it, loss=0.115]\u001b[A\n",
      "Epoch 32:  99%|████████████████████████████████████████████▋| 3038/3055 [1:37:12<00:32,  1.92s/it, loss=0.115]\u001b[A\n",
      "Epoch 32:  99%|████████████████████████████████████████████▊| 3039/3055 [1:37:14<00:30,  1.92s/it, loss=0.115]\u001b[A\n",
      "Epoch 32: 100%|████████████████████████████████████████████▊| 3040/3055 [1:37:15<00:28,  1.92s/it, loss=0.115]\u001b[A\n",
      "Epoch 32: 100%|████████████████████████████████████████████▊| 3041/3055 [1:37:16<00:26,  1.92s/it, loss=0.115]\u001b[A\n",
      "Epoch 32: 100%|████████████████████████████████████████████▊| 3042/3055 [1:37:17<00:24,  1.92s/it, loss=0.115]\u001b[A\n",
      "Epoch 32: 100%|████████████████████████████████████████████▊| 3043/3055 [1:37:18<00:23,  1.92s/it, loss=0.115]\u001b[A\n",
      "Epoch 32: 100%|████████████████████████████████████████████▊| 3044/3055 [1:37:19<00:21,  1.92s/it, loss=0.115]\u001b[A\n",
      "Epoch 32: 100%|████████████████████████████████████████████▊| 3045/3055 [1:37:20<00:19,  1.92s/it, loss=0.115]\u001b[A\n",
      "Epoch 32: 100%|████████████████████████████████████████████▊| 3046/3055 [1:37:21<00:17,  1.92s/it, loss=0.115]\u001b[A\n",
      "Epoch 32: 100%|████████████████████████████████████████████▉| 3047/3055 [1:37:23<00:15,  1.92s/it, loss=0.115]\u001b[A\n",
      "Epoch 32: 100%|████████████████████████████████████████████▉| 3048/3055 [1:37:24<00:13,  1.92s/it, loss=0.115]\u001b[A\n",
      "Epoch 32: 100%|████████████████████████████████████████████▉| 3049/3055 [1:37:25<00:11,  1.92s/it, loss=0.115]\u001b[A\n",
      "Epoch 32: 100%|████████████████████████████████████████████▉| 3050/3055 [1:37:26<00:09,  1.92s/it, loss=0.115]\u001b[A\n",
      "Epoch 32: 100%|████████████████████████████████████████████▉| 3051/3055 [1:37:27<00:07,  1.92s/it, loss=0.115]\u001b[A\n",
      "Epoch 32: 100%|████████████████████████████████████████████▉| 3052/3055 [1:37:28<00:05,  1.92s/it, loss=0.115]\u001b[A\n",
      "Epoch 32: 100%|████████████████████████████████████████████▉| 3053/3055 [1:37:29<00:03,  1.92s/it, loss=0.115]\u001b[A\n",
      "Epoch 32: 100%|████████████████████████████████████████████▉| 3054/3055 [1:37:31<00:01,  1.92s/it, loss=0.115]\u001b[A\n",
      "Epoch 32: 100%|█████████████████████████████████████████████| 3055/3055 [1:37:31<00:00,  1.92s/it, loss=0.115]\u001b[A\n",
      "Epoch 32: 100%|█████████████████████████████████████████████| 3055/3055 [1:37:31<00:00,  1.92s/it, loss=0.115]\u001b[A"
     ]
    },
    {
     "name": "stderr",
     "output_type": "stream",
     "text": [
      "Epoch 32, global step 100122: 'val_iou_loss' was not in top True\n"
     ]
    },
    {
     "name": "stdout",
     "output_type": "stream",
     "text": [
      "Epoch 33:  81%|█████████████████████████████████████         | 2463/3055 [1:17:58<18:44,  1.90s/it, loss=0.11]"
     ]
    }
   ],
   "source": [
    "trainer.fit(model, dataset)"
   ]
  },
  {
   "cell_type": "code",
   "execution_count": null,
   "id": "falling-meter",
   "metadata": {},
   "outputs": [],
   "source": [
    "# import torch\n",
    "# Run inference on the images shown before\n",
    "\n",
    "logits = model(batch_train[\"image\"].to(model.device))\n",
    "print(f\"Shape of logits: {logits.shape}\")\n",
    "probs = torch.softmax(logits, dim=1)\n",
    "print(f\"Shape of probs: {probs.shape}\")\n",
    "prediction = torch.argmax(probs, dim=1).long().cpu()\n",
    "print(f\"Shape of prediction: {prediction.shape}\")"
   ]
  },
  {
   "cell_type": "raw",
   "id": "3eb6095c-4b3f-47db-8920-92242e50f36b",
   "metadata": {},
   "source": [
    "n_images=10\n",
    "fig, axs = plt.subplots(4, n_images, figsize=(18,14),tight_layout=True)\n",
    "flooding_model.plot_batch(batch_train[\"image\"][:n_images],axs=axs[0],max_clip_val=3500.)\n",
    "flooding_model.plot_batch(batch_train[\"image\"][:n_images],bands_show=[\"B11\",\"B8\", \"B4\"],\n",
    "                             axs=axs[1],max_clip_val=4500.)\n",
    "flooding_model.plot_batch_output_v1(batch_train[\"mask\"][:n_images, 0],axs=axs[2], show_axis=True)\n",
    "flooding_model.plot_batch_output_v1(prediction[:n_images] + 1,axs=axs[3], show_axis=True)\n",
    "\n",
    "for ax in axs.ravel():\n",
    "    ax.grid(False)"
   ]
  },
  {
   "cell_type": "code",
   "execution_count": null,
   "id": "optional-continuity",
   "metadata": {},
   "outputs": [],
   "source": [
    "config.model_params.max_tile_size = config.model_params.hyperparameters.max_tile_size\n",
    "config"
   ]
  },
  {
   "cell_type": "code",
   "execution_count": null,
   "id": "cardiac-driving",
   "metadata": {},
   "outputs": [],
   "source": [
    "# os.environ[\"CUDA_VISIBLE_DEVICES\"]=\"\"\n",
    "\n",
    "# import torch\n",
    "import numpy as np\n",
    "from ml4floods.models.utils import metrics\n",
    "from ml4floods.models.model_setup import get_model_inference_function\n",
    "import pandas as pd\n",
    "\n",
    "# model.to(\"cuda\")\n",
    "inference_function = get_model_inference_function(model, config, apply_normalization=False, activation=\"softmax\")\n",
    "\n",
    "# dataset2 = get_dataset(config.data_params)\n",
    "dl = dataset.val_dataloader() # pytorch Dataloader\n",
    "print(str(dl.batch_size))\n",
    "\n",
    "# Otherwise fails when reading test dataset from remote bucket\n",
    "# torch.set_num_threads(1)\n",
    "\n",
    "thresholds_water = [0,1e-3,1e-2]+np.arange(0.5,.96,.05).tolist() + [.99,.995,.999]\n",
    "\n",
    "mets = metrics.compute_metrics(\n",
    "    dl,\n",
    "    inference_function, \n",
    "    thresholds_water=thresholds_water, \n",
    "    plot=False, convert_targets=False)\n",
    "\n",
    "label_names = [\"land\", \"water\", \"cloud\"]\n",
    "metrics.plot_metrics(mets, label_names)"
   ]
  },
  {
   "cell_type": "code",
   "execution_count": null,
   "id": "featured-gnome",
   "metadata": {},
   "outputs": [],
   "source": [
    "if hasattr(dl.dataset, \"image_files\"):\n",
    "    cems_code = [os.path.basename(f).split(\"_\")[0] for f in dl.dataset.image_files]\n",
    "else:\n",
    "    cems_code = [os.path.basename(f.file_name).split(\"_\")[0] for f in dl.dataset.list_of_windows]\n",
    "\n",
    "iou_per_code = pd.DataFrame(metrics.group_confusion(mets[\"confusions\"],cems_code, metrics.calculate_iou,\n",
    "                                                    label_names=[f\"IoU_{l}\"for l in [\"land\", \"water\", \"cloud\"]]))\n",
    "\n",
    "recall_per_code = pd.DataFrame(metrics.group_confusion(mets[\"confusions\"],cems_code, metrics.calculate_recall,\n",
    "                                                       label_names=[f\"Recall_{l}\"for l in [\"land\", \"water\", \"cloud\"]]))\n",
    "\n",
    "join_data_per_code = pd.merge(recall_per_code,iou_per_code,on=\"code\")\n",
    "join_data_per_code = join_data_per_code.set_index(\"code\")\n",
    "join_data_per_code = join_data_per_code*100\n",
    "print(f\"Mean values across flood events: {join_data_per_code.mean(axis=0).to_dict()}\")\n",
    "join_data_per_code"
   ]
  },
  {
   "cell_type": "raw",
   "id": "6233dfa4-7736-4f55-a3a1-ca90f6bd8944",
   "metadata": {},
   "source": [
    "# import torch\n",
    "from pytorch_lightning.utilities.cloud_io import atomic_save\n",
    "from ml4floods.models.config_setup import save_json\n",
    "\n",
    "# Save in the cloud and in the wandb logger save dir\n",
    "atomic_save(model.state_dict(), f\"{experiment_path}/model_rgbnir_worldflood_model_2_epoch_10.pt\")\n",
    "# Save cofig file in experiment_path\n",
    "config_file_path = f\"{experiment_path}/config_rgbnir_worldflood_model_2_epoch_10.json\"\n",
    "save_json(config, config_file_path)"
   ]
  },
  {
   "cell_type": "code",
   "execution_count": null,
   "id": "3a1b6829-07cf-4831-b114-20230d3b3289",
   "metadata": {},
   "outputs": [],
   "source": [
    "torch.save(model.state_dict(),f\"{experiment_path}/model_irirnir_worldflood_model_1_epoch_2_gamma_5_alpha_0_001.pt\")\n",
    "# Save cofig file in experiment_path\n",
    "config_file_path = f\"{experiment_path}/config_irirnir_worldflood_model_1_epoch_2_gamma_5_alpha_0_001.json\"\n",
    "import json\n",
    "with open(config_file_path, 'w') as f:\n",
    "    json.dump(config, f)"
   ]
  },
  {
   "cell_type": "code",
   "execution_count": null,
   "id": "continuing-consumption",
   "metadata": {},
   "outputs": [],
   "source": [
    "if setup_weights_and_biases:\n",
    "    torch.save(model.state_dict(), os.path.join(wandb_logger.save_dir, 'model_irirnir_worldflood_model_1_epoch_2_gamma_5_alpha_0_001.pt'))\n",
    "    wandb.save(os.path.join(wandb_logger.save_dir, 'model_irirnir_worldflood_model_1_epoch_2_gamma_5_alpha_0_001.pt')) # Copy weights to weights and biases server\n",
    "    wandb.finish()"
   ]
  },
  {
   "cell_type": "code",
   "execution_count": null,
   "id": "b28f5845-b502-41df-afdb-df2af60b5696",
   "metadata": {},
   "outputs": [],
   "source": [
    "# Run inference on the images shown before\n",
    "\n",
    "logits = model(batch_val[\"image\"].to(model.device))\n",
    "print(f\"Shape of logits: {logits.shape}\")\n",
    "probs = torch.softmax(logits, dim=1)\n",
    "print(f\"Shape of probs: {probs.shape}\")\n",
    "prediction = torch.argmax(probs, dim=1).long().cpu()\n",
    "print(f\"Shape of prediction: {prediction.shape}\")"
   ]
  },
  {
   "cell_type": "code",
   "execution_count": null,
   "id": "5fbafaab-0986-4de8-98ef-0bfb21c439d9",
   "metadata": {},
   "outputs": [],
   "source": [
    "n_image_start=7\n",
    "n_images=14\n",
    "count=int(n_images-n_image_start)\n",
    "fig, axs = plt.subplots(4, count, figsize=(18,14),tight_layout=True)\n",
    "importlib.reload(flooding_model)\n",
    "flooding_model.plot_batch(batch_val[\"image\"][n_image_start:n_images],channel_configuration=\"bgri\",axs=axs[0],max_clip_val=3500.)\n",
    "flooding_model.plot_batch(batch_val[\"image\"][n_image_start:n_images],channel_configuration=\"bgri\",bands_show=[\"B8\",\"B8\", \"B8\"],axs=axs[1],max_clip_val=3500.)\n",
    "# flooding_model.plot_batch(batch_val[\"image\"][:n_images],bands_show=[\"B11\",\"B8\", \"B4\"],axs=axs[1],max_clip_val=4500.)\n",
    "flooding_model.plot_batch_output_v1(batch_val[\"mask\"][n_image_start:n_images, 0],axs=axs[2], show_axis=True)\n",
    "flooding_model.plot_batch_output_v1(prediction[n_image_start:n_images] + 1,axs=axs[3], show_axis=True)\n",
    "\n",
    "for ax in axs.ravel():\n",
    "    ax.grid(False)"
   ]
  },
  {
   "cell_type": "code",
   "execution_count": null,
   "id": "822f0f77-f767-42bd-95d3-7436e91cf27e",
   "metadata": {},
   "outputs": [],
   "source": []
  }
 ],
 "metadata": {
  "kernelspec": {
   "display_name": "Pytorch (pt-gpu)",
   "language": "python",
   "name": "pt-gpu"
  },
  "language_info": {
   "codemirror_mode": {
    "name": "ipython",
    "version": 3
   },
   "file_extension": ".py",
   "mimetype": "text/x-python",
   "name": "python",
   "nbconvert_exporter": "python",
   "pygments_lexer": "ipython3",
   "version": "3.10.4"
  }
 },
 "nbformat": 4,
 "nbformat_minor": 5
}
